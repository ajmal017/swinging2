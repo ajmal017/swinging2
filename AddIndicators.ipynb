{
 "cells": [
  {
   "cell_type": "code",
   "execution_count": 1,
   "metadata": {},
   "outputs": [],
   "source": [
    "import pandas as pd\n",
    "import ta"
   ]
  },
  {
   "cell_type": "code",
   "execution_count": 2,
   "metadata": {},
   "outputs": [],
   "source": [
    "df = pd.read_parquet('all_symbols.parquet')\n",
    "regime_df = pd.read_parquet('market_index.parquet')\n",
    "sector_df = pd.read_parquet('sector_index.parquet')"
   ]
  },
  {
   "cell_type": "code",
   "execution_count": 4,
   "metadata": {},
   "outputs": [],
   "source": [
    "sectors = df.sector.unique()"
   ]
  },
  {
   "cell_type": "code",
   "execution_count": 9,
   "metadata": {},
   "outputs": [],
   "source": [
    "sector = 'Information Technology'"
   ]
  },
  {
   "cell_type": "code",
   "execution_count": 10,
   "metadata": {},
   "outputs": [],
   "source": [
    "df_sec = df.loc[df.sector == sector]"
   ]
  },
  {
   "cell_type": "code",
   "execution_count": 11,
   "metadata": {},
   "outputs": [],
   "source": [
    "sec_symbols = df_sec.symbol.unique()"
   ]
  },
  {
   "cell_type": "code",
   "execution_count": 16,
   "metadata": {},
   "outputs": [],
   "source": [
    "import itertools as itr\n",
    "\n",
    "sec_pairs = list(itr.combinations(sec_symbols, 2))"
   ]
  },
  {
   "cell_type": "code",
   "execution_count": 28,
   "metadata": {},
   "outputs": [
    {
     "name": "stderr",
     "output_type": "stream",
     "text": [
      "100% (10440 of 10440) |##################| Elapsed Time: 0:08:09 Time:  0:08:09\n"
     ]
    }
   ],
   "source": [
    "import progressbar\n",
    "import scipy.stats as stat\n",
    "\n",
    "data = []\n",
    "for sym1, sym2 in progressbar.progressbar(sec_pairs):\n",
    "    df1 = df_sec.loc[df_sec.symbol == sym1].set_index('Date')\n",
    "    df2 = df_sec.loc[df_sec.symbol == sym2].set_index('Date')\n",
    "    intersection = df1.index.intersection(df2.index)\n",
    "    df1 = df1.loc[intersection]\n",
    "    df2 = df2.loc[intersection]\n",
    "    data.append(stat.pearsonr(df1.adj_close, df2.adj_close))"
   ]
  },
  {
   "cell_type": "code",
   "execution_count": 31,
   "metadata": {},
   "outputs": [],
   "source": [
    "corr = pd.DataFrame(data, columns=['coef', 'p_value'])\n",
    "pairs = pd.DataFrame(sec_pairs, columns=['symbol1', 'symbol2'])\n",
    "pair_corr_df = pd.concat((pairs, corr), axis=1, ignore_index=False)"
   ]
  },
  {
   "cell_type": "code",
   "execution_count": 32,
   "metadata": {},
   "outputs": [
    {
     "data": {
      "text/html": [
       "<div>\n",
       "<style scoped>\n",
       "    .dataframe tbody tr th:only-of-type {\n",
       "        vertical-align: middle;\n",
       "    }\n",
       "\n",
       "    .dataframe tbody tr th {\n",
       "        vertical-align: top;\n",
       "    }\n",
       "\n",
       "    .dataframe thead th {\n",
       "        text-align: right;\n",
       "    }\n",
       "</style>\n",
       "<table border=\"1\" class=\"dataframe\">\n",
       "  <thead>\n",
       "    <tr style=\"text-align: right;\">\n",
       "      <th></th>\n",
       "      <th>symbol1</th>\n",
       "      <th>symbol2</th>\n",
       "      <th>coef</th>\n",
       "      <th>p_value</th>\n",
       "    </tr>\n",
       "  </thead>\n",
       "  <tbody>\n",
       "    <tr>\n",
       "      <td>4993</td>\n",
       "      <td>DBD</td>\n",
       "      <td>FLIR</td>\n",
       "      <td>-0.882701</td>\n",
       "      <td>0.0</td>\n",
       "    </tr>\n",
       "    <tr>\n",
       "      <td>2207</td>\n",
       "      <td>BMI</td>\n",
       "      <td>DBD</td>\n",
       "      <td>-0.881864</td>\n",
       "      <td>0.0</td>\n",
       "    </tr>\n",
       "    <tr>\n",
       "      <td>5043</td>\n",
       "      <td>DBD</td>\n",
       "      <td>PTC</td>\n",
       "      <td>-0.881826</td>\n",
       "      <td>0.0</td>\n",
       "    </tr>\n",
       "    <tr>\n",
       "      <td>4987</td>\n",
       "      <td>DBD</td>\n",
       "      <td>EPAY</td>\n",
       "      <td>-0.868772</td>\n",
       "      <td>0.0</td>\n",
       "    </tr>\n",
       "    <tr>\n",
       "      <td>4230</td>\n",
       "      <td>CSCO</td>\n",
       "      <td>DBD</td>\n",
       "      <td>-0.868343</td>\n",
       "      <td>0.0</td>\n",
       "    </tr>\n",
       "    <tr>\n",
       "      <td>...</td>\n",
       "      <td>...</td>\n",
       "      <td>...</td>\n",
       "      <td>...</td>\n",
       "      <td>...</td>\n",
       "    </tr>\n",
       "    <tr>\n",
       "      <td>1059</td>\n",
       "      <td>AMAT</td>\n",
       "      <td>MKSI</td>\n",
       "      <td>0.969898</td>\n",
       "      <td>0.0</td>\n",
       "    </tr>\n",
       "    <tr>\n",
       "      <td>2492</td>\n",
       "      <td>CACI</td>\n",
       "      <td>LDOS</td>\n",
       "      <td>0.970346</td>\n",
       "      <td>0.0</td>\n",
       "    </tr>\n",
       "    <tr>\n",
       "      <td>2497</td>\n",
       "      <td>CACI</td>\n",
       "      <td>MANT</td>\n",
       "      <td>0.973002</td>\n",
       "      <td>0.0</td>\n",
       "    </tr>\n",
       "    <tr>\n",
       "      <td>2874</td>\n",
       "      <td>CCMP</td>\n",
       "      <td>MPWR</td>\n",
       "      <td>0.974335</td>\n",
       "      <td>0.0</td>\n",
       "    </tr>\n",
       "    <tr>\n",
       "      <td>3130</td>\n",
       "      <td>CDNS</td>\n",
       "      <td>PAYX</td>\n",
       "      <td>0.975261</td>\n",
       "      <td>0.0</td>\n",
       "    </tr>\n",
       "  </tbody>\n",
       "</table>\n",
       "<p>10440 rows × 4 columns</p>\n",
       "</div>"
      ],
      "text/plain": [
       "     symbol1 symbol2      coef  p_value\n",
       "4993     DBD    FLIR -0.882701      0.0\n",
       "2207     BMI     DBD -0.881864      0.0\n",
       "5043     DBD     PTC -0.881826      0.0\n",
       "4987     DBD    EPAY -0.868772      0.0\n",
       "4230    CSCO     DBD -0.868343      0.0\n",
       "...      ...     ...       ...      ...\n",
       "1059    AMAT    MKSI  0.969898      0.0\n",
       "2492    CACI    LDOS  0.970346      0.0\n",
       "2497    CACI    MANT  0.973002      0.0\n",
       "2874    CCMP    MPWR  0.974335      0.0\n",
       "3130    CDNS    PAYX  0.975261      0.0\n",
       "\n",
       "[10440 rows x 4 columns]"
      ]
     },
     "execution_count": 32,
     "metadata": {},
     "output_type": "execute_result"
    }
   ],
   "source": [
    "pair_corr_df.sort_values('coef')"
   ]
  },
  {
   "cell_type": "code",
   "execution_count": 3,
   "metadata": {},
   "outputs": [],
   "source": [
    "import ta\n",
    "\n",
    "def prep_regime_filter(regime_df, roc_col_name='regime_roc', mv_col_name='regime_ma',\n",
    "                       close_name='regime_close',\n",
    "                       ma_period=200,\n",
    "                       roc_period=45):\n",
    "    regime_df.loc[:, roc_col_name] = ta.momentum.ROCIndicator(regime_df.adj_close, n=roc_period).roc()\n",
    "    regime_df.loc[:, mv_col_name] = regime_df.set_index(\n",
    "        'Date'\n",
    "    ).adj_close.rolling('%dd' % ma_period, min_periods=1).mean().values\n",
    "    regime_df.loc[:, close_name] = regime_df.adj_close\n",
    "    return regime_df"
   ]
  },
  {
   "cell_type": "code",
   "execution_count": 4,
   "metadata": {},
   "outputs": [],
   "source": [
    "regime_df = prep_regime_filter(regime_df)"
   ]
  },
  {
   "cell_type": "code",
   "execution_count": 5,
   "metadata": {},
   "outputs": [],
   "source": [
    "sector_df = sector_df.groupby('sector').apply(lambda x: prep_regime_filter(x, roc_col_name='sector_roc',\n",
    "                                                                     mv_col_name='sector_ma',\n",
    "                                                                     close_name='sector_close'))"
   ]
  },
  {
   "cell_type": "code",
   "execution_count": 6,
   "metadata": {},
   "outputs": [],
   "source": [
    "df = df.merge(regime_df[['Date', 'regime_close', 'regime_ma']], on='Date', how='left')\n",
    "df = df.merge(sector_df[['Date', 'sector', 'sector_close', 'sector_ma']], on=['Date', 'sector'], how='left')"
   ]
  },
  {
   "cell_type": "code",
   "execution_count": 7,
   "metadata": {},
   "outputs": [],
   "source": [
    "import ta\n",
    "import numpy as np\n",
    "\n",
    "def mean_atr(df, atr_period=14):\n",
    "    df.loc[:, 'last_close'] = df.adj_close.shift(1)\n",
    "    atr_high = np.maximum(df.high_adj, df.last_close)\n",
    "    atr_low = np.minimum(df.high_adj, df.last_close) \n",
    "    atr = atr_high - atr_low\n",
    "    return atr, atr.ewm(span=atr_period, adjust=False).mean()\n",
    "\n",
    "def mean_close_diff_norm(close, ma):\n",
    "    return (close - ma) / ma\n",
    "\n",
    "def manual_mfi(df, period):\n",
    "    mfi_df = df[['adj_close', 'Date', 'Volume']].set_index('Date')\n",
    "    mfi_df.loc[:, 'prev_close'] = mfi_df.adj_close.shift(1)\n",
    "    mfi_df.loc[:, 'perc_change'] = (mfi_df.prev_close - mfi_df.adj_close).abs() / mfi_df.adj_close\n",
    "    up_index = mfi_df.adj_close > mfi_df.prev_close\n",
    "    down_index = mfi_df.adj_close < mfi_df.prev_close\n",
    "    mfi_df.loc[:, 'avg_up'] = 0\n",
    "    mfi_df.loc[:, 'avg_down'] = 0\n",
    "    mfi_df.loc[up_index, 'avg_up'] = mfi_df.loc[up_index, 'perc_change'] * mfi_df.loc[up_index, 'Volume']\n",
    "    mfi_df.loc[down_index, 'avg_down'] = mfi_df.loc[down_index, 'perc_change'] * mfi_df.loc[down_index, 'Volume']\n",
    "    mfi_df.loc[:, 'avg_up'] = mfi_df.loc[:, 'avg_up'].ewm(alpha=1.0 / period, adjust=False).mean()\n",
    "    mfi_df.loc[:, 'avg_down'] = mfi_df.loc[:, 'avg_down'].ewm(alpha=1.0 / period, adjust=False).mean()\n",
    "    mfi = (100.0 - (100.0 / (1 + (mfi_df.avg_up / mfi_df.avg_down)))).values\n",
    "    return mfi\n",
    "\n",
    "\n",
    "def generate_ta_features(sym_df, rsi_period=5, roc_period=45, roc_short_period=4, fut_roc_period=5, mfi_period=5,\n",
    "                         sto_period=14, atr_period=14, volitility_short_period=2, volitility_medium_period=7, bba_period=20,\n",
    "                         dch_period=20, ma_period=200):\n",
    "    sym_df = sym_df.sort_values('Date')\n",
    "    sym_df.loc[:, 'mv_avg'] = sym_df.set_index(\n",
    "        'Date'\n",
    "    ).adj_close.rolling('%dd' % ma_period, min_periods=1).mean().values\n",
    "    rsi = ta.momentum.RSIIndicator(close=sym_df.adj_close, n=rsi_period).rsi()\n",
    "    roc = ta.momentum.ROCIndicator(sym_df.adj_close, n=roc_period).roc()\n",
    "    roc_short = ta.momentum.ROCIndicator(sym_df.adj_close, n=roc_short_period).roc()\n",
    "    roc_fut = ta.momentum.ROCIndicator(sym_df.adj_close, n=fut_roc_period).roc()\n",
    "    mfi = ta.momentum.MFIIndicator(\n",
    "        high=sym_df.adj_high, low=sym_df.adj_low,\n",
    "        close=sym_df.adj_close, volume=sym_df.Volume,\n",
    "        n=mfi_period\n",
    "    ).money_flow_index()\n",
    "    sto = ta.momentum.StochasticOscillator(high=sym_df.adj_high, low=sym_df.adj_low, close=sym_df.adj_close,\n",
    "                                     n=sto_period).stoch_signal()\n",
    "    bb = ta.volatility.BollingerBands(close=sym_df.adj_close, n=bba_period)\n",
    "    bb_high = bb.bollinger_hband()\n",
    "    bb_low = bb.bollinger_lband()\n",
    "    bba = bb_high - bb_low\n",
    "    dc = ta.volatility.DonchianChannel(close=sym_df.adj_close, n=dch_period)\n",
    "    dc_high = dc.donchian_channel_hband()\n",
    "    dc_low = dc.donchian_channel_lband()\n",
    "    dch = dc_high - dc_low\n",
    "    sym_df.loc[:, 'rsi'] = rsi\n",
    "    sym_df.loc[:, 'roc'] = roc\n",
    "    sym_df.loc[:, 'roc_short'] = roc_short\n",
    "    sym_df.loc[:, 'fut_roc'] = roc_fut.shift(-fut_roc_period)\n",
    "    sym_df.loc[:, 'mfi'] = mfi\n",
    "    sym_df.loc[:, 'sto'] = sto\n",
    "    sym_df.loc[:, 'bba'] = bba\n",
    "    sym_df.loc[:, 'dch'] = dch\n",
    "    sym_df.loc[:, 'bba_norm'] = bba / sym_df.adj_close\n",
    "    sym_df.loc[:, 'dch_norm'] = dch / sym_df.adj_close\n",
    "    sym_df.loc[:, 'ma_diff_norm'] = mean_close_diff_norm(sym_df.adj_close, sym_df.mv_avg)\n",
    "    sym_df.loc[:, 'regime_ma_diff_norm'] = mean_close_diff_norm(sym_df.regime_close, sym_df.regime_ma)\n",
    "    sym_df.loc[:, 'sector_ma_diff_norm'] = mean_close_diff_norm(sym_df.sector_close, sym_df.sector_ma)\n",
    "    volatility_base = (sym_df.adj_close.diff() / sym_df.adj_close.shift(1)).abs()\n",
    "    sym_df.loc[:, 'volatility'] = volatility_base.ewm(span=atr_period, adjust=False).mean()\n",
    "    sym_df.loc[:, 'volatility_short'] = volatility_base.ewm(span=volitility_short_period, adjust=False).mean()\n",
    "    sym_df.loc[:, 'volatility_medium'] = volatility_base.ewm(span=volitility_medium_period, adjust=False).mean()\n",
    "    sym_df.loc[:, 'directional_strength'] = -(sym_df.adj_close.diff() / sym_df.adj_close.shift(1)).ewm(span=atr_period,\n",
    "                                                                                                      adjust=False).mean()\n",
    "    return sym_df"
   ]
  },
  {
   "cell_type": "code",
   "execution_count": 8,
   "metadata": {},
   "outputs": [],
   "source": [
    "ta_feats = df.groupby('symbol').apply(generate_ta_features)"
   ]
  },
  {
   "cell_type": "code",
   "execution_count": 9,
   "metadata": {},
   "outputs": [],
   "source": [
    "ta_feats.to_parquet('ta_data.parquet')"
   ]
  },
  {
   "cell_type": "code",
   "execution_count": null,
   "metadata": {},
   "outputs": [],
   "source": []
  }
 ],
 "metadata": {
  "kernelspec": {
   "display_name": "Python 3",
   "language": "python",
   "name": "python3"
  },
  "language_info": {
   "codemirror_mode": {
    "name": "ipython",
    "version": 3
   },
   "file_extension": ".py",
   "mimetype": "text/x-python",
   "name": "python",
   "nbconvert_exporter": "python",
   "pygments_lexer": "ipython3",
   "version": "3.7.4"
  }
 },
 "nbformat": 4,
 "nbformat_minor": 2
}
