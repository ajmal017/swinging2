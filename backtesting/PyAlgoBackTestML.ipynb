{
 "cells": [
  {
   "cell_type": "markdown",
   "metadata": {},
   "source": [
    "## Write Data to CSV"
   ]
  },
  {
   "cell_type": "code",
   "execution_count": null,
   "metadata": {},
   "outputs": [],
   "source": [
    "import pandas as pd\n",
    "\n",
    "df_norm = pd.read_parquet('../../historical_pr_data.parquet')"
   ]
  },
  {
   "cell_type": "code",
   "execution_count": null,
   "metadata": {},
   "outputs": [],
   "source": [
    "df_norm.loc[:, 'date_formatted'] = df_norm.date.dt.strftime('%Y-%m-%d %H:%M:%S')"
   ]
  },
  {
   "cell_type": "code",
   "execution_count": null,
   "metadata": {},
   "outputs": [],
   "source": [
    "cols = ['symbol', 'date_formatted', 'adjusted_close', 'volume', 'open_adj', 'high_adj', 'low_adj', 'close_adj']\n",
    "output_cols = ['symbol', 'Date Time', 'Adj Close', 'Volume', 'Open', 'High', 'Low', 'Close']\n",
    "df_reduced = df_norm[cols].reset_index(drop=True)\n",
    "df_reduced.columns = output_cols"
   ]
  },
  {
   "cell_type": "code",
   "execution_count": null,
   "metadata": {},
   "outputs": [],
   "source": [
    "csv_cols = ['Date Time', 'Open', 'High', 'Low', 'Close', 'Volume', 'Adj Close']\n",
    "df_reduced.groupby('symbol').apply(lambda x: x.to_csv('large_cap/%s.csv' % x.symbol.iloc[0], index=False))"
   ]
  },
  {
   "cell_type": "markdown",
   "metadata": {},
   "source": [
    "## Enter PyAlgo"
   ]
  },
  {
   "cell_type": "code",
   "execution_count": 1,
   "metadata": {},
   "outputs": [],
   "source": [
    "from pyalgotrade.barfeed.csvfeed import GenericBarFeed\n",
    "from pyalgotrade.bar import Frequency\n",
    "\n",
    "barfeed = GenericBarFeed(Frequency.DAY)"
   ]
  },
  {
   "cell_type": "code",
   "execution_count": 2,
   "metadata": {},
   "outputs": [],
   "source": [
    "\n",
    "import os\n",
    "\n",
    "base_dirs = ['large_cap', 'small_cap', 'mid_cap']\n",
    "\n",
    "symbols = []\n",
    "symbol_set = set([])\n",
    "\n",
    "for base_dir in base_dirs:\n",
    "    for f in os.listdir(base_dir)[:]:\n",
    "        symbol = f.split('.')[0]\n",
    "        if symbol not in symbol_set:\n",
    "            symbol_set.add(symbol)\n",
    "            symbols.append(symbol)\n",
    "            barfeed.addBarsFromCSV(symbol, '%s/%s' % (base_dir, f))"
   ]
  },
  {
   "cell_type": "code",
   "execution_count": 3,
   "metadata": {},
   "outputs": [],
   "source": [
    "from pyalgotrade import strategy\n",
    "import numpy as np\n",
    "import logging\n",
    "import datetime as dt\n",
    "\n",
    "class MRStrategy(strategy.BacktestingStrategy):\n",
    "    def __init__(self, feed, entries, exits, equity_df,\n",
    "                 score_sort=True,\n",
    "                 pos_size=0.05, max_positions=2,\n",
    "                 hold_period=100, stop=0.1,\n",
    "                 cash_or_brk = 50000,\n",
    "                 trail_stop = False,\n",
    "                 weight_pos = True, drawdown_tresh=1.0,\n",
    "                 drawdown_timeout=0,\n",
    "                 loglevel=logging.ERROR):\n",
    "        super(MRStrategy, self).__init__(feed, cash_or_brk=cash_or_brk)\n",
    "        logger = self.getLogger()\n",
    "        logger.setLevel(loglevel)\n",
    "        self.max_positions = max_positions\n",
    "        self.stop = stop\n",
    "        self.hold_period = hold_period\n",
    "        self.score_sort = score_sort\n",
    "        self.trail_stop = trail_stop\n",
    "        self.equity_df = equity_df\n",
    "        self.pos_size = pos_size\n",
    "        self.weight_pos = weight_pos\n",
    "        self.drawdown_tresh = drawdown_tresh\n",
    "        self.date_allowance = entries['date'].min()\n",
    "        self.drawdown_timeout = drawdown_timeout\n",
    "        self.__position = {}\n",
    "        self.__position_hold = {}\n",
    "        self.__position_strategy = {}\n",
    "        self.__position_peak = {}\n",
    "        self.__instruments = feed.getRegisteredInstruments()\n",
    "        self.entries = entries.loc[entries.symbol.isin(self.__instruments)]\n",
    "        self.exits = exits.loc[exits.symbol.isin(self.__instruments)]\n",
    "        self.__tgt_pos_size = pos_size\n",
    "        self.max_equity = 0\n",
    "        self.getBroker().getFillStrategy().setVolumeLimit(None)\n",
    "        for instrument in self.__instruments:\n",
    "            self.__position[instrument] = None\n",
    "            self.__position_hold[instrument] = 0\n",
    "            self.__position_peak[instrument] = None\n",
    "            \n",
    "    def __clear_position(self, instrument):\n",
    "        self.__position[instrument] = None\n",
    "        self.__position_hold[instrument] = None\n",
    "        self.__position_strategy[instrument] = None\n",
    "        self.__position_peak[instrument] = None\n",
    "        \n",
    "    def onEnterOk(self, position):\n",
    "        instrument = position.getInstrument()\n",
    "        execInfo = position.getEntryOrder().getExecutionInfo()\n",
    "        #self.info(\"BUY %s at $%.2f\" % (instrument, execInfo.getPrice()))\n",
    "\n",
    "    def onEnterCanceled(self, position):\n",
    "        instrument = position.getInstrument()\n",
    "        self.__clear_position(instrument)\n",
    "\n",
    "    def onExitOk(self, position):\n",
    "        instrument = position.getInstrument()\n",
    "        execInfo = position.getExitOrder().getExecutionInfo()\n",
    "        #self.info(\"SELL %s at $%.2f\" % (instrument, execInfo.getPrice()))\n",
    "        self.__clear_position(instrument)\n",
    "        \n",
    "    def onExitCanceled(self, position):\n",
    "        # If the exit was canceled, re-submit it.\n",
    "        instrument = position.getInstrument()\n",
    "        self.__position[instrument].exitMarket()\n",
    "        \n",
    "    def checkEntry(self, bars, instrument, pos_size, cash_available):\n",
    "        bar = bars[instrument]\n",
    "        close = bar.getClose()\n",
    "        shares = int((self.getBroker().getEquity() * pos_size)/ close)\n",
    "        if (shares * close) > cash_available:\n",
    "            shares = 0\n",
    "        else:\n",
    "            cash_available -= shares * close\n",
    "        return shares, close, cash_available\n",
    "    \n",
    "    def checkExit(self, bars, instrument, exit_df):\n",
    "        exit = False\n",
    "        bar = bars[instrument]\n",
    "        close = bar.getClose()\n",
    "        if close > self.__position_peak[instrument] and self.trail_stop:\n",
    "            self.__position_peak[instrument] = close\n",
    "        exec_info = self.__position[instrument].getEntryOrder().getExecutionInfo()\n",
    "        if exec_info is not None:\n",
    "            entry_price = exec_info.getPrice()\n",
    "            exit = ((self.__position_peak[instrument] - close) / self.__position_peak[instrument]) > self.stop\n",
    "            exit = exit or (self.__position_hold[instrument] < 1)\n",
    "            exit = exit or (exit_df.shape[0] > 0)\n",
    "        return exit\n",
    "                \n",
    "    def onBars(self, bars):\n",
    "        current_dt = self.getCurrentDateTime()     \n",
    "        entries = self.entries.loc[(self.entries['date'] == current_dt)]\n",
    "        if current_dt == dt.datetime(2011, 1, 5):\n",
    "            self.info(entries[['symbol', 'strategy_ind', 'pred_score']])\n",
    "        if entries.shape[0] > 0:\n",
    "            if self.score_sort == True:\n",
    "                entries = entries.sort_values(['pred', 'volatility'], ascending=[False, False])\n",
    "            instruments_avail = entries.drop_duplicates(\n",
    "                subset=['symbol'], keep='first'\n",
    "            )[['symbol', 'strategy_ind', 'pred_score', 'volatility']].iloc[:self.max_positions]\n",
    "            agg_score = instruments_avail.pred_score.sum()\n",
    "            cash_available = self.getBroker().getCash()\n",
    "            for ind in instruments_avail.index:\n",
    "                sym = instruments_avail.loc[ind, 'symbol']\n",
    "                strategy = instruments_avail.loc[ind, 'strategy_ind']\n",
    "                pred_score = instruments_avail.loc[ind, 'pred_score']\n",
    "                if self.__position[sym] is None:\n",
    "                    weight = pred_score / agg_score if self.weight_pos else 1 / instruments_avail.shape[0]\n",
    "                    weight *= self.pos_size * instruments_avail.shape[0]\n",
    "                    shares, close, cash_available = self.checkEntry(bars, sym, weight, cash_available)\n",
    "                    if shares > 0:\n",
    "                        self.__position[sym] = self.enterLong(sym, shares, True)\n",
    "                        self.__position_hold[sym] = self.hold_period\n",
    "                        self.__position_strategy[sym] = strategy\n",
    "                        self.__position_peak[sym] = close\n",
    "                        self.entries.loc[ind, 'selected'] = 1\n",
    "                \n",
    "        instruments_avail = bars.keys()\n",
    "        exits = self.exits.loc[self.exits['date'] == current_dt]\n",
    "        cur_equity = self.getBroker().getEquity()\n",
    "        max_equity = self.max_equity if self.max_equity > cur_equity else cur_equity\n",
    "        drawdown = 1 - (cur_equity / max_equity)\n",
    "        drawdown_hit = drawdown > self.drawdown_tresh\n",
    "        max_equity = max_equity if not drawdown_hit else cur_equity\n",
    "        if current_dt >= self.date_allowance:\n",
    "            for instrument in instruments_avail:\n",
    "                if self.__position[instrument] is not None:\n",
    "                    strategy = self.__position_strategy[instrument]\n",
    "                    exit_df = exits.loc[(exits.symbol == instrument) & (exits.strategy_ind == strategy)]\n",
    "                    self.__position_hold[instrument] -= 1\n",
    "                    exit = self.checkExit(bars, instrument, exit_df) or drawdown_hit\n",
    "                    if exit and not self.__position[instrument].exitActive():\n",
    "                        self.__position[instrument].exitMarket()\n",
    "        if drawdown_hit:\n",
    "            self.date_allowance = current_dt + dt.timedelta(days=self.drawdown_timeout)\n",
    "        positions = self.getBroker().getPositions()\n",
    "        self.max_equity = max_equity\n",
    "        self.equity_df.loc[current_dt, 'drawdown'] = drawdown\n",
    "        self.equity_df.loc[current_dt, 'drawdown_hit'] = drawdown_hit\n",
    "        self.equity_df.loc[current_dt, 'max_equity'] = max_equity\n",
    "        self.equity_df.loc[current_dt, 'equity'] = cur_equity\n",
    "        self.equity_df.loc[current_dt, 'positions'] = len(self.getBroker().getPositions())\n",
    "        self.equity_df.loc[current_dt, 'cash'] = self.getBroker().getCash()   "
   ]
  },
  {
   "cell_type": "code",
   "execution_count": 4,
   "metadata": {},
   "outputs": [
    {
     "name": "stderr",
     "output_type": "stream",
     "text": [
      "C:\\Users\\K28120\\py36\\lib\\site-packages\\pandas\\core\\indexing.py:362: SettingWithCopyWarning: \n",
      "A value is trying to be set on a copy of a slice from a DataFrame.\n",
      "Try using .loc[row_indexer,col_indexer] = value instead\n",
      "\n",
      "See the caveats in the documentation: http://pandas.pydata.org/pandas-docs/stable/indexing.html#indexing-view-versus-copy\n",
      "  self.obj[key] = _infer_fill_value(value)\n",
      "C:\\Users\\K28120\\py36\\lib\\site-packages\\pandas\\core\\indexing.py:543: SettingWithCopyWarning: \n",
      "A value is trying to be set on a copy of a slice from a DataFrame.\n",
      "Try using .loc[row_indexer,col_indexer] = value instead\n",
      "\n",
      "See the caveats in the documentation: http://pandas.pydata.org/pandas-docs/stable/indexing.html#indexing-view-versus-copy\n",
      "  self.obj[item] = s\n"
     ]
    },
    {
     "data": {
      "text/plain": [
       "0.7858567945023276"
      ]
     },
     "execution_count": 4,
     "metadata": {},
     "output_type": "execute_result"
    }
   ],
   "source": [
    "import pandas as pd\n",
    "import datetime as dt\n",
    "\n",
    "df = pd.read_parquet('small_mid_lrg_cap_signals.parquet')\n",
    "date_range = pd.read_parquet('small_mid_lrg_cap_dt_rng.parquet')\n",
    "df.loc[:, 'pred'] = 0\n",
    "df.loc[df.pred_score >= 0.5, 'pred'] = 1\n",
    "#df = df.loc[df['date'] >= dt.datetime(2011, 1, 1)]\n",
    "#equity_df = pd.DataFrame({'dates': date_range['date'].unique()}).sort_values('dates').set_index('dates')\n",
    "equity_df = pd.DataFrame({'dates': date_range['date'].unique()}).sort_values('dates').set_index('dates')\n",
    "\n",
    "equity_df.loc[:, 'equity'] = 0\n",
    "entrances = df.loc[(df.actual_enter == 1)]\n",
    "entrances.loc[:, 'selected'] = 0\n",
    "exits = df.loc[df.exits == 1]\n",
    "entrances['date'].unique().shape[0] / date_range['date'].unique().shape[0]"
   ]
  },
  {
   "cell_type": "code",
   "execution_count": 4,
   "metadata": {},
   "outputs": [
    {
     "name": "stderr",
     "output_type": "stream",
     "text": [
      "C:\\Users\\K28120\\py36\\lib\\site-packages\\pandas\\core\\indexing.py:362: SettingWithCopyWarning: \n",
      "A value is trying to be set on a copy of a slice from a DataFrame.\n",
      "Try using .loc[row_indexer,col_indexer] = value instead\n",
      "\n",
      "See the caveats in the documentation: http://pandas.pydata.org/pandas-docs/stable/indexing.html#indexing-view-versus-copy\n",
      "  self.obj[key] = _infer_fill_value(value)\n",
      "C:\\Users\\K28120\\py36\\lib\\site-packages\\pandas\\core\\indexing.py:543: SettingWithCopyWarning: \n",
      "A value is trying to be set on a copy of a slice from a DataFrame.\n",
      "Try using .loc[row_indexer,col_indexer] = value instead\n",
      "\n",
      "See the caveats in the documentation: http://pandas.pydata.org/pandas-docs/stable/indexing.html#indexing-view-versus-copy\n",
      "  self.obj[item] = s\n"
     ]
    },
    {
     "data": {
      "text/plain": [
       "0.7736643759698515"
      ]
     },
     "execution_count": 4,
     "metadata": {},
     "output_type": "execute_result"
    }
   ],
   "source": [
    "import pandas as pd\n",
    "import datetime as dt\n",
    "\n",
    "df = pd.read_parquet('small_cap_signals.parquet')\n",
    "df.loc[:, 'pred'] = 0\n",
    "df.loc[df.pred_score >= 0.5, 'pred'] = 1\n",
    "#df = df.loc[df['date'] >= dt.datetime(2011, 1, 1)]\n",
    "#equity_df = pd.DataFrame({'dates': date_range['date'].unique()}).sort_values('dates').set_index('dates')\n",
    "equity_df = pd.DataFrame({'dates': df['date'].unique()}).sort_values('dates').set_index('dates')\n",
    "\n",
    "equity_df.loc[:, 'equity'] = 0\n",
    "entrances = df.loc[(df.actual_enter == 1)]\n",
    "entrances.loc[:, 'selected'] = 0\n",
    "exits = df.loc[df.exits == 1]\n",
    "entrances['date'].unique().shape[0] / df['date'].unique().shape[0]"
   ]
  },
  {
   "cell_type": "code",
   "execution_count": 3,
   "metadata": {},
   "outputs": [],
   "source": [
    "old_entrances = entrances\n",
    "old_exits = exits\n",
    "old_equity_df = equity_df"
   ]
  },
  {
   "cell_type": "code",
   "execution_count": 21,
   "metadata": {},
   "outputs": [],
   "source": [
    "ex1 = exits.drop(['pred_score', 'pred'], axis=1)\n",
    "ex2 = old_exits.drop(['pred_score', 'pred'], axis=1)"
   ]
  },
  {
   "cell_type": "code",
   "execution_count": 23,
   "metadata": {},
   "outputs": [
    {
     "data": {
      "text/plain": [
       "True"
      ]
     },
     "execution_count": 23,
     "metadata": {},
     "output_type": "execute_result"
    }
   ],
   "source": [
    "ex1.equals(ex2)"
   ]
  },
  {
   "cell_type": "code",
   "execution_count": 5,
   "metadata": {},
   "outputs": [],
   "source": [
    "from pyalgotrade import plotter\n",
    "\n",
    "mr_strategy = MRStrategy(barfeed, entrances, exits, equity_df, score_sort=True, stop=1.0)"
   ]
  },
  {
   "cell_type": "code",
   "execution_count": 6,
   "metadata": {},
   "outputs": [],
   "source": [
    "from pyalgotrade.stratanalyzer import returns\n",
    "from pyalgotrade.stratanalyzer import trades\n",
    "from pyalgotrade.stratanalyzer import drawdown\n",
    "from pyalgotrade.stratanalyzer import sharpe\n",
    "\n",
    "returnsAnalyzer = returns.Returns(maxLen=365*40)\n",
    "tradesAnalyzer = trades.Trades()\n",
    "drawDownAnalyzer = drawdown.DrawDown()\n",
    "sharpAnalyzer= sharpe.SharpeRatio()\n",
    "mr_strategy.attachAnalyzer(returnsAnalyzer)\n",
    "mr_strategy.attachAnalyzer(tradesAnalyzer)\n",
    "mr_strategy.attachAnalyzer(drawDownAnalyzer)\n",
    "mr_strategy.attachAnalyzer(sharpAnalyzer)\n",
    "plt = plotter.StrategyPlotter(mr_strategy)"
   ]
  },
  {
   "cell_type": "code",
   "execution_count": 7,
   "metadata": {},
   "outputs": [
    {
     "name": "stderr",
     "output_type": "stream",
     "text": [
      "2002-05-08 00:00:00 broker.backtesting [DEBUG] Not enough cash to fill NE order [156] for 148 share/s\n",
      "2002-06-25 00:00:00 broker.backtesting [DEBUG] Not enough cash to fill SBSI order [193] for 422 share/s\n",
      "2003-09-29 00:00:00 broker.backtesting [DEBUG] Not enough cash to fill UVE order [619] for 63889 share/s\n",
      "2003-09-30 00:00:00 broker.backtesting [DEBUG] Not enough cash to fill UVE order [619] for 63889 share/s\n",
      "2003-10-01 00:00:00 broker.backtesting [DEBUG] Not enough cash to fill UVE order [619] for 63889 share/s\n",
      "2003-10-01 00:00:00 broker.backtesting [DEBUG] Not enough cash to fill CRUS order [620] for 1034 share/s\n",
      "2003-10-02 00:00:00 broker.backtesting [DEBUG] Not enough cash to fill CRUS order [620] for 1034 share/s\n",
      "2003-10-02 00:00:00 broker.backtesting [DEBUG] Not enough cash to fill TER order [621] for 308 share/s\n",
      "2003-10-03 00:00:00 broker.backtesting [DEBUG] Not enough cash to fill CRUS order [620] for 1034 share/s\n",
      "2003-10-03 00:00:00 broker.backtesting [DEBUG] Not enough cash to fill TER order [621] for 308 share/s\n",
      "2003-10-06 00:00:00 broker.backtesting [DEBUG] Not enough cash to fill CRUS order [620] for 1034 share/s\n",
      "2003-10-06 00:00:00 broker.backtesting [DEBUG] Not enough cash to fill TER order [621] for 308 share/s\n",
      "2003-10-07 00:00:00 broker.backtesting [DEBUG] Not enough cash to fill GIII order [625] for 2174 share/s\n",
      "2003-10-08 00:00:00 broker.backtesting [DEBUG] Not enough cash to fill GIII order [625] for 2174 share/s\n",
      "2004-02-02 00:00:00 broker.backtesting [DEBUG] Not enough cash to fill EGHT order [795] for 2193 share/s\n",
      "2004-02-03 00:00:00 broker.backtesting [DEBUG] Not enough cash to fill CNX order [796] for 742 share/s\n",
      "2004-02-04 00:00:00 broker.backtesting [DEBUG] Not enough cash to fill AVD order [798] for 1033 share/s\n",
      "2004-02-05 00:00:00 broker.backtesting [DEBUG] Not enough cash to fill AVD order [798] for 1033 share/s\n",
      "2004-02-06 00:00:00 broker.backtesting [DEBUG] Not enough cash to fill AVD order [798] for 1033 share/s\n",
      "2004-02-09 00:00:00 broker.backtesting [DEBUG] Not enough cash to fill AVD order [798] for 1033 share/s\n",
      "2004-02-10 00:00:00 broker.backtesting [DEBUG] Not enough cash to fill SBSI order [800] for 835 share/s\n",
      "2004-02-11 00:00:00 broker.backtesting [DEBUG] Not enough cash to fill SBSI order [800] for 835 share/s\n",
      "2004-02-12 00:00:00 broker.backtesting [DEBUG] Not enough cash to fill PGNX order [803] for 414 share/s\n",
      "2004-02-13 00:00:00 broker.backtesting [DEBUG] Not enough cash to fill OHI order [807] for 887 share/s\n",
      "2004-02-17 00:00:00 broker.backtesting [DEBUG] Not enough cash to fill LMNX order [809] for 1001 share/s\n",
      "2004-02-18 00:00:00 broker.backtesting [DEBUG] Not enough cash to fill INCY order [811] for 1141 share/s\n",
      "2004-02-19 00:00:00 broker.backtesting [DEBUG] Not enough cash to fill INTL order [815] for 1509 share/s\n",
      "2004-02-20 00:00:00 broker.backtesting [DEBUG] Not enough cash to fill INTL order [815] for 1509 share/s\n",
      "2004-02-23 00:00:00 broker.backtesting [DEBUG] Not enough cash to fill INTL order [815] for 1509 share/s\n",
      "2004-02-24 00:00:00 broker.backtesting [DEBUG] Not enough cash to fill INTL order [815] for 1509 share/s\n",
      "2004-02-25 00:00:00 broker.backtesting [DEBUG] Not enough cash to fill CHE order [817] for 335 share/s\n",
      "2004-02-26 00:00:00 broker.backtesting [DEBUG] Not enough cash to fill CHE order [817] for 335 share/s\n",
      "2004-02-27 00:00:00 broker.backtesting [DEBUG] Not enough cash to fill ASGN order [819] for 1482 share/s\n",
      "2004-03-01 00:00:00 broker.backtesting [DEBUG] Not enough cash to fill ASGN order [819] for 1482 share/s\n",
      "2004-03-02 00:00:00 broker.backtesting [DEBUG] Not enough cash to fill SIG order [821] for 228 share/s\n",
      "2004-03-03 00:00:00 broker.backtesting [DEBUG] Not enough cash to fill RGS order [823] for 246 share/s\n",
      "2004-03-04 00:00:00 broker.backtesting [DEBUG] Not enough cash to fill RGS order [823] for 246 share/s\n",
      "2004-03-05 00:00:00 broker.backtesting [DEBUG] Not enough cash to fill CVCO order [825] for 516 share/s\n",
      "2004-03-08 00:00:00 broker.backtesting [DEBUG] Not enough cash to fill AAXN order [829] for 779 share/s\n",
      "2004-03-09 00:00:00 broker.backtesting [DEBUG] Not enough cash to fill HOPE order [831] for 571 share/s\n",
      "2004-03-10 00:00:00 broker.backtesting [DEBUG] Not enough cash to fill HOPE order [831] for 571 share/s\n",
      "2004-03-11 00:00:00 broker.backtesting [DEBUG] Not enough cash to fill NPO order [833] for 508 share/s\n",
      "2004-03-12 00:00:00 broker.backtesting [DEBUG] Not enough cash to fill NPO order [833] for 508 share/s\n",
      "2004-03-15 00:00:00 broker.backtesting [DEBUG] Not enough cash to fill NPO order [833] for 508 share/s\n",
      "2004-03-16 00:00:00 broker.backtesting [DEBUG] Not enough cash to fill ATGE order [837] for 306 share/s\n",
      "2004-03-17 00:00:00 broker.backtesting [DEBUG] Not enough cash to fill ATGE order [837] for 306 share/s\n",
      "2004-03-18 00:00:00 broker.backtesting [DEBUG] Not enough cash to fill ATGE order [837] for 306 share/s\n",
      "2004-03-19 00:00:00 broker.backtesting [DEBUG] Not enough cash to fill AKS order [839] for 1941 share/s\n",
      "2004-03-22 00:00:00 broker.backtesting [DEBUG] Not enough cash to fill AKS order [839] for 1941 share/s\n",
      "2004-03-23 00:00:00 broker.backtesting [DEBUG] Not enough cash to fill AKS order [839] for 1941 share/s\n",
      "2004-03-24 00:00:00 broker.backtesting [DEBUG] Not enough cash to fill AKS order [839] for 1941 share/s\n",
      "2004-03-25 00:00:00 broker.backtesting [DEBUG] Not enough cash to fill AKS order [839] for 1941 share/s\n",
      "2004-03-26 00:00:00 broker.backtesting [DEBUG] Not enough cash to fill AKS order [839] for 1941 share/s\n",
      "2004-03-29 00:00:00 broker.backtesting [DEBUG] Not enough cash to fill AKS order [839] for 1941 share/s\n",
      "2004-03-30 00:00:00 broker.backtesting [DEBUG] Not enough cash to fill AKS order [839] for 1941 share/s\n",
      "2004-03-31 00:00:00 broker.backtesting [DEBUG] Not enough cash to fill DORM order [847] for 1946 share/s\n",
      "2005-01-06 00:00:00 broker.backtesting [DEBUG] Not enough cash to fill TTMI order [1175] for 1271 share/s\n",
      "2005-01-07 00:00:00 broker.backtesting [DEBUG] Not enough cash to fill SKYW order [1176] for 714 share/s\n",
      "2005-01-10 00:00:00 broker.backtesting [DEBUG] Not enough cash to fill SKYW order [1176] for 714 share/s\n",
      "2005-01-11 00:00:00 broker.backtesting [DEBUG] Not enough cash to fill SKYW order [1176] for 714 share/s\n",
      "2005-01-12 00:00:00 broker.backtesting [DEBUG] Not enough cash to fill SKYW order [1176] for 714 share/s\n",
      "2005-01-13 00:00:00 broker.backtesting [DEBUG] Not enough cash to fill TGI order [1178] for 693 share/s\n",
      "2005-01-14 00:00:00 broker.backtesting [DEBUG] Not enough cash to fill TGI order [1178] for 693 share/s\n",
      "2005-01-18 00:00:00 broker.backtesting [DEBUG] Not enough cash to fill TGI order [1178] for 693 share/s\n",
      "2005-01-19 00:00:00 broker.backtesting [DEBUG] Not enough cash to fill TGI order [1178] for 693 share/s\n",
      "2005-01-20 00:00:00 broker.backtesting [DEBUG] Not enough cash to fill TGI order [1178] for 693 share/s\n",
      "2005-01-21 00:00:00 broker.backtesting [DEBUG] Not enough cash to fill TPX order [1180] for 616 share/s\n",
      "2005-01-24 00:00:00 broker.backtesting [DEBUG] Not enough cash to fill TPX order [1180] for 616 share/s\n",
      "2005-01-25 00:00:00 broker.backtesting [DEBUG] Not enough cash to fill TPX order [1180] for 616 share/s\n",
      "2005-01-26 00:00:00 broker.backtesting [DEBUG] Not enough cash to fill TWI order [1182] for 1213 share/s\n",
      "2005-01-27 00:00:00 broker.backtesting [DEBUG] Not enough cash to fill BCPC order [1184] for 2474 share/s\n",
      "2005-01-28 00:00:00 broker.backtesting [DEBUG] Not enough cash to fill BCPC order [1184] for 2474 share/s\n",
      "2005-01-31 00:00:00 broker.backtesting [DEBUG] Not enough cash to fill BCPC order [1184] for 2474 share/s\n",
      "2005-02-01 00:00:00 broker.backtesting [DEBUG] Not enough cash to fill BCPC order [1184] for 2474 share/s\n",
      "2005-02-02 00:00:00 broker.backtesting [DEBUG] Not enough cash to fill BCPC order [1184] for 2474 share/s\n",
      "2005-02-03 00:00:00 broker.backtesting [DEBUG] Not enough cash to fill BCPC order [1184] for 2474 share/s\n",
      "2005-02-04 00:00:00 broker.backtesting [DEBUG] Not enough cash to fill BCPC order [1184] for 2474 share/s\n",
      "2005-02-07 00:00:00 broker.backtesting [DEBUG] Not enough cash to fill VICR order [1193] for 1146 share/s\n",
      "2006-06-27 00:00:00 broker.backtesting [DEBUG] Not enough cash to fill UVE order [1683] for 14323 share/s\n",
      "2010-04-23 00:00:00 broker.backtesting [DEBUG] Not enough cash to fill BANC order [2781] for 5474 share/s\n",
      "2010-04-26 00:00:00 broker.backtesting [DEBUG] Not enough cash to fill BANC order [2781] for 5474 share/s\n",
      "2010-04-27 00:00:00 broker.backtesting [DEBUG] Not enough cash to fill BAC order [2784] for 2843 share/s\n",
      "2010-04-28 00:00:00 broker.backtesting [DEBUG] Not enough cash to fill BAC order [2784] for 2843 share/s\n",
      "2010-04-29 00:00:00 broker.backtesting [DEBUG] Not enough cash to fill SLM order [2786] for 3737 share/s\n",
      "2010-04-30 00:00:00 broker.backtesting [DEBUG] Not enough cash to fill JBLU order [2788] for 9201 share/s\n",
      "2010-05-03 00:00:00 broker.backtesting [DEBUG] Not enough cash to fill JBLU order [2788] for 9201 share/s\n",
      "2010-05-04 00:00:00 broker.backtesting [DEBUG] Not enough cash to fill FSS order [2790] for 6330 share/s\n",
      "2010-05-05 00:00:00 broker.backtesting [DEBUG] Not enough cash to fill FSS order [2790] for 6330 share/s\n",
      "2010-05-06 00:00:00 broker.backtesting [DEBUG] Not enough cash to fill FSS order [2790] for 6330 share/s\n",
      "2010-05-07 00:00:00 broker.backtesting [DEBUG] Not enough cash to fill FSS order [2790] for 6330 share/s\n",
      "2010-05-10 00:00:00 broker.backtesting [DEBUG] Not enough cash to fill FSS order [2790] for 6330 share/s\n",
      "2010-05-11 00:00:00 broker.backtesting [DEBUG] Not enough cash to fill FSS order [2790] for 6330 share/s\n",
      "2010-05-12 00:00:00 broker.backtesting [DEBUG] Not enough cash to fill FSS order [2790] for 6330 share/s\n",
      "2010-05-13 00:00:00 broker.backtesting [DEBUG] Not enough cash to fill FSS order [2790] for 6330 share/s\n",
      "2010-05-14 00:00:00 broker.backtesting [DEBUG] Not enough cash to fill PGNX order [2792] for 8409 share/s\n",
      "2010-05-17 00:00:00 broker.backtesting [DEBUG] Not enough cash to fill CMCSA order [2794] for 6021 share/s\n",
      "2010-05-18 00:00:00 broker.backtesting [DEBUG] Not enough cash to fill CMCSA order [2794] for 6021 share/s\n",
      "2010-05-19 00:00:00 broker.backtesting [DEBUG] Not enough cash to fill PFBC order [2796] for 3495 share/s\n",
      "2010-05-20 00:00:00 broker.backtesting [DEBUG] Not enough cash to fill PFBC order [2796] for 3495 share/s\n",
      "2010-05-21 00:00:00 broker.backtesting [DEBUG] Not enough cash to fill PFBC order [2796] for 3495 share/s\n",
      "2010-05-24 00:00:00 broker.backtesting [DEBUG] Not enough cash to fill PFBC order [2796] for 3495 share/s\n",
      "2010-05-25 00:00:00 broker.backtesting [DEBUG] Not enough cash to fill PFBC order [2796] for 3495 share/s\n",
      "2010-05-26 00:00:00 broker.backtesting [DEBUG] Not enough cash to fill PFBC order [2796] for 3495 share/s\n",
      "2010-05-27 00:00:00 broker.backtesting [DEBUG] Not enough cash to fill PFBC order [2796] for 3495 share/s\n",
      "2010-05-28 00:00:00 broker.backtesting [DEBUG] Not enough cash to fill BANR order [2798] for 1276 share/s\n",
      "2010-10-22 00:00:00 broker.backtesting [DEBUG] Not enough cash to fill SPSC order [2898] for 7605 share/s\n",
      "2010-10-25 00:00:00 broker.backtesting [DEBUG] Not enough cash to fill SPSC order [2898] for 7605 share/s\n",
      "2010-10-26 00:00:00 broker.backtesting [DEBUG] Not enough cash to fill SPSC order [2898] for 7605 share/s\n",
      "2012-08-27 00:00:00 broker.backtesting [DEBUG] Not enough cash to fill WOR order [3461] for 3217 share/s\n",
      "2012-08-28 00:00:00 broker.backtesting [DEBUG] Not enough cash to fill WOR order [3461] for 3217 share/s\n",
      "2012-08-29 00:00:00 broker.backtesting [DEBUG] Not enough cash to fill PNR order [3463] for 2429 share/s\n",
      "2012-08-30 00:00:00 broker.backtesting [DEBUG] Not enough cash to fill PNR order [3463] for 2429 share/s\n",
      "2012-08-31 00:00:00 broker.backtesting [DEBUG] Not enough cash to fill PNR order [3463] for 2429 share/s\n",
      "2012-09-04 00:00:00 broker.backtesting [DEBUG] Not enough cash to fill GEOS order [3467] for 1063 share/s\n",
      "2012-09-05 00:00:00 broker.backtesting [DEBUG] Not enough cash to fill GEOS order [3467] for 1063 share/s\n",
      "2015-06-25 00:00:00 broker.backtesting [DEBUG] Not enough cash to fill KOP order [4437] for 5504 share/s\n",
      "2015-06-26 00:00:00 broker.backtesting [DEBUG] Not enough cash to fill KOP order [4437] for 5504 share/s\n",
      "2015-06-29 00:00:00 broker.backtesting [DEBUG] Not enough cash to fill KOP order [4437] for 5504 share/s\n",
      "2015-06-30 00:00:00 broker.backtesting [DEBUG] Not enough cash to fill CIEN order [4440] for 5853 share/s\n",
      "2015-07-01 00:00:00 broker.backtesting [DEBUG] Not enough cash to fill CIEN order [4440] for 5853 share/s\n",
      "2015-07-02 00:00:00 broker.backtesting [DEBUG] Not enough cash to fill CIEN order [4440] for 5853 share/s\n",
      "2015-07-06 00:00:00 broker.backtesting [DEBUG] Not enough cash to fill EXEL order [4442] for 39604 share/s\n",
      "2015-07-07 00:00:00 broker.backtesting [DEBUG] Not enough cash to fill EXEL order [4442] for 39604 share/s\n",
      "2015-07-08 00:00:00 broker.backtesting [DEBUG] Not enough cash to fill EXEL order [4442] for 39604 share/s\n",
      "2015-07-09 00:00:00 broker.backtesting [DEBUG] Not enough cash to fill EXEL order [4442] for 39604 share/s\n",
      "2015-07-10 00:00:00 broker.backtesting [DEBUG] Not enough cash to fill EXEL order [4442] for 39604 share/s\n",
      "2015-07-13 00:00:00 broker.backtesting [DEBUG] Not enough cash to fill EXEL order [4442] for 39604 share/s\n",
      "2015-07-14 00:00:00 broker.backtesting [DEBUG] Not enough cash to fill LMAT order [4444] for 14807 share/s\n",
      "2015-07-15 00:00:00 broker.backtesting [DEBUG] Not enough cash to fill LMAT order [4444] for 14807 share/s\n",
      "2015-07-16 00:00:00 broker.backtesting [DEBUG] Not enough cash to fill MATW order [4448] for 2295 share/s\n",
      "2015-07-17 00:00:00 broker.backtesting [DEBUG] Not enough cash to fill MATW order [4448] for 2295 share/s\n",
      "2015-07-20 00:00:00 broker.backtesting [DEBUG] Not enough cash to fill KBH order [4450] for 9761 share/s\n",
      "2019-08-21 00:00:00 broker.backtesting [DEBUG] Not enough cash to fill FICO order [5702] for 503 share/s\n",
      "2019-08-22 00:00:00 broker.backtesting [DEBUG] Not enough cash to fill FICO order [5702] for 503 share/s\n"
     ]
    }
   ],
   "source": [
    "mr_strategy.run()"
   ]
  },
  {
   "cell_type": "code",
   "execution_count": null,
   "metadata": {},
   "outputs": [],
   "source": [
    "len(mr_strategy.getBroker().getPositions())"
   ]
  },
  {
   "cell_type": "code",
   "execution_count": null,
   "metadata": {},
   "outputs": [],
   "source": [
    "import numpy as np\n",
    "import pandas as pd\n",
    "import plotly\n",
    "from plotly.subplots import make_subplots\n",
    "import plotly.graph_objs as go\n",
    "\n",
    "def get_figure(sym, plt, rsi_strategy):\n",
    "    instr = plt.getInstrumentSubplot(sym)\n",
    "    instr_buy = instr.getSeries('Buy').getValues()\n",
    "    instr_sell = instr.getSeries('Sell').getValues()\n",
    "    bars = instr.getSeries(sym).getValues()\n",
    "    buy_date, buy_price = zip(*instr_buy.items())\n",
    "    sell_date, sell_price = zip(*instr_sell.items())\n",
    "    buy_df = pd.DataFrame(\n",
    "        {'buy_date': buy_date, 'buy_price': buy_price}\n",
    "    ).sort_values('buy_date')\n",
    "    sell_df = pd.DataFrame(\n",
    "        {'sell_date': sell_date, 'sell_price': sell_price}\n",
    "    ).sort_values('sell_date')\n",
    "    bar_dict = {\n",
    "        'open': [],\n",
    "        'close': [],\n",
    "        'high': [],\n",
    "        'low': [],\n",
    "        'bar_date': []\n",
    "    }\n",
    "    for dt in bars:\n",
    "        bar = bars[dt]\n",
    "        bar_dict['open'].append(bar.getOpen())\n",
    "        bar_dict['close'].append(bar.getClose())\n",
    "        bar_dict['high'].append(bar.getHigh())\n",
    "        bar_dict['low'].append(bar.getLow())\n",
    "        bar_dict['bar_date'].append(dt)\n",
    "    bar_df = pd.DataFrame(bar_dict).sort_values('bar_date')\n",
    "    fig = make_subplots(rows=1, cols=1, shared_xaxes=True)\n",
    "    fig.add_trace(\n",
    "        go.Candlestick(open=bar_df.open, high=bar_df.high, low=bar_df.low,\n",
    "                       close=bar_df.close, x=bar_df.bar_date, name='price'),\n",
    "        row=1,col=1\n",
    "    )\n",
    "    fig.add_trace(\n",
    "        go.Scatter(x=buy_df.buy_date, y=buy_df.buy_price, mode='markers', name='buy',\n",
    "                   marker=dict(color='blue')),\n",
    "        row=1, col=1\n",
    "    )\n",
    "    fig.add_trace(\n",
    "        go.Scatter(x=sell_df.sell_date, y=sell_df.sell_price, mode='markers', name='sell',\n",
    "                   marker=dict(color='red')),\n",
    "        row=1, col=1\n",
    "    )\n",
    "    fig.update_layout(xaxis_rangeslider_visible=False, title=sym)\n",
    "    return fig"
   ]
  },
  {
   "cell_type": "code",
   "execution_count": null,
   "metadata": {},
   "outputs": [],
   "source": [
    "fig = get_figure(symbols[3], plt, mr_strategy)\n",
    "fig"
   ]
  },
  {
   "cell_type": "code",
   "execution_count": null,
   "metadata": {},
   "outputs": [],
   "source": [
    "import matplotlib.pyplot as plt\n",
    "rsi = np.array(rsi_strategy.rsi['AAOI'])\n",
    "roc = np.array(rsi_strategy.roc['AAOI'])\n",
    "x = np.arange(rsi.shape[0])\n",
    "plt.plot(x, rsi)"
   ]
  },
  {
   "cell_type": "code",
   "execution_count": null,
   "metadata": {},
   "outputs": [],
   "source": [
    "plt.plot(x, roc)"
   ]
  },
  {
   "cell_type": "code",
   "execution_count": null,
   "metadata": {},
   "outputs": [],
   "source": [
    "import random\n",
    "random.shuffle(symbols)\n",
    "for sym in symbols[:30]:\n",
    "    fig = get_figure(sym, plt, rsi_strategy) \n",
    "    plotly.offline.plot(fig, filename = 'pyalgo_charts/rsi/%s.html' % sym, auto_open=False)"
   ]
  },
  {
   "cell_type": "code",
   "execution_count": 8,
   "metadata": {},
   "outputs": [],
   "source": [
    "import numpy as np\n",
    "cum_returns = np.array(returnsAnalyzer.getCumulativeReturns())\n",
    "returns = np.array(returnsAnalyzer.getReturns())"
   ]
  },
  {
   "cell_type": "code",
   "execution_count": 9,
   "metadata": {},
   "outputs": [
    {
     "data": {
      "text/plain": [
       "(4.738835935666468, 80.97052381914247)"
      ]
     },
     "execution_count": 9,
     "metadata": {},
     "output_type": "execute_result"
    }
   ],
   "source": [
    "np.sum(returns), cum_returns[-1]"
   ]
  },
  {
   "cell_type": "code",
   "execution_count": 9,
   "metadata": {},
   "outputs": [
    {
     "data": {
      "text/plain": [
       "(4.738835935666468, 80.97052381914247)"
      ]
     },
     "execution_count": 9,
     "metadata": {},
     "output_type": "execute_result"
    }
   ],
   "source": [
    "np.sum(returns), cum_returns[-1]"
   ]
  },
  {
   "cell_type": "code",
   "execution_count": 9,
   "metadata": {},
   "outputs": [
    {
     "data": {
      "text/plain": [
       "(4.738835935666468, 80.97052381914247)"
      ]
     },
     "execution_count": 9,
     "metadata": {},
     "output_type": "execute_result"
    }
   ],
   "source": [
    "np.sum(returns), cum_returns[-1]"
   ]
  },
  {
   "cell_type": "code",
   "execution_count": 9,
   "metadata": {},
   "outputs": [
    {
     "data": {
      "text/plain": [
       "(4.7401636905096876, 81.02293337680476)"
      ]
     },
     "execution_count": 9,
     "metadata": {},
     "output_type": "execute_result"
    }
   ],
   "source": [
    "np.sum(returns), cum_returns[-1]"
   ]
  },
  {
   "cell_type": "code",
   "execution_count": 9,
   "metadata": {},
   "outputs": [
    {
     "data": {
      "text/plain": [
       "(4.882190159778762, 93.64051644899743)"
      ]
     },
     "execution_count": 9,
     "metadata": {},
     "output_type": "execute_result"
    }
   ],
   "source": [
    "np.sum(returns), cum_returns[-1]"
   ]
  },
  {
   "cell_type": "code",
   "execution_count": null,
   "metadata": {},
   "outputs": [],
   "source": [
    "np.sum(returns), cum_returns[-1]"
   ]
  },
  {
   "cell_type": "code",
   "execution_count": null,
   "metadata": {},
   "outputs": [],
   "source": [
    "np.sum(returns), cum_returns[-1]"
   ]
  },
  {
   "cell_type": "code",
   "execution_count": null,
   "metadata": {},
   "outputs": [],
   "source": [
    "np.sum(returns), cum_returns[-1]"
   ]
  },
  {
   "cell_type": "code",
   "execution_count": null,
   "metadata": {},
   "outputs": [],
   "source": [
    "np.sum(returns), cum_returns[-1]"
   ]
  },
  {
   "cell_type": "code",
   "execution_count": null,
   "metadata": {},
   "outputs": [],
   "source": [
    "np.sum(returns), cum_returns[-1]"
   ]
  },
  {
   "cell_type": "code",
   "execution_count": null,
   "metadata": {},
   "outputs": [],
   "source": [
    "np.sum(returns), cum_returns[-1]"
   ]
  },
  {
   "cell_type": "code",
   "execution_count": null,
   "metadata": {},
   "outputs": [],
   "source": [
    "np.sum(returns), cum_returns[-1]"
   ]
  },
  {
   "cell_type": "code",
   "execution_count": null,
   "metadata": {},
   "outputs": [],
   "source": [
    "np.sum(returns), cum_returns[-1]"
   ]
  },
  {
   "cell_type": "code",
   "execution_count": null,
   "metadata": {},
   "outputs": [],
   "source": [
    "np.sum(returns), cum_returns[-1]"
   ]
  },
  {
   "cell_type": "code",
   "execution_count": null,
   "metadata": {},
   "outputs": [],
   "source": [
    "np.sum(returns), cum_returns[-1]"
   ]
  },
  {
   "cell_type": "code",
   "execution_count": null,
   "metadata": {},
   "outputs": [],
   "source": [
    "np.sum(returns), cum_returns[-1]"
   ]
  },
  {
   "cell_type": "code",
   "execution_count": null,
   "metadata": {},
   "outputs": [],
   "source": [
    "np.sum(returns), cum_returns[-1]"
   ]
  },
  {
   "cell_type": "code",
   "execution_count": null,
   "metadata": {},
   "outputs": [],
   "source": [
    "np.sum(returns), cum_returns[-1]"
   ]
  },
  {
   "cell_type": "code",
   "execution_count": null,
   "metadata": {},
   "outputs": [],
   "source": [
    "np.sum(returns), cum_returns[-1]"
   ]
  },
  {
   "cell_type": "code",
   "execution_count": null,
   "metadata": {},
   "outputs": [],
   "source": []
  },
  {
   "cell_type": "code",
   "execution_count": null,
   "metadata": {},
   "outputs": [],
   "source": [
    "eq_df = mr_strategy.equity_df.sort_index()"
   ]
  },
  {
   "cell_type": "code",
   "execution_count": null,
   "metadata": {},
   "outputs": [],
   "source": [
    "eq_df.loc[:, 'peak'] = eq_df.equity.cummax()\n",
    "eq_df.loc[:, 'drawdown'] = 1 - (eq_df.equity / eq_df.peak)"
   ]
  },
  {
   "cell_type": "code",
   "execution_count": null,
   "metadata": {},
   "outputs": [],
   "source": [
    "rsi = pd.read_parquet('../profits/RSIROC.parquet')\n",
    "plt_df = rsi.loc[rsi.symbol == 'A']"
   ]
  },
  {
   "cell_type": "code",
   "execution_count": null,
   "metadata": {},
   "outputs": [],
   "source": [
    "import plotly.graph_objects as go\n",
    "from plotly.subplots import make_subplots\n",
    "\n",
    "#eq_df = mr_strategy.equity_df.sort_index()\n",
    "\n",
    "def add_liquidation_lines(fig, eq_df, max_val, row_ind, col_ind):\n",
    "    for row in eq_df.loc[eq_df.drawdown_hit].index:\n",
    "        fig.add_trace(\n",
    "             go.Scattergl(\n",
    "                    x=[row, row],\n",
    "                    y=[0, max_val],\n",
    "                    mode='lines',\n",
    "                    line=dict(color='firebrick', dash='dash'),\n",
    "                    showlegend=False\n",
    "            ),\n",
    "            row=row_ind, col=col_ind\n",
    "        ) \n",
    "\n",
    "\n",
    "fig = make_subplots(rows=3, cols=1, shared_xaxes=True)#, specs=[[{\"secondary_y\": True}]])\n",
    "\n",
    "fig.add_trace(\n",
    "    go.Scattergl(\n",
    "        x=eq_df.index, y=eq_df.equity, name='equity curve'\n",
    "    ),\n",
    "    row=1, col=1\n",
    ")\n",
    "\n",
    "add_liquidation_lines(fig, eq_df, eq_df.equity.max(), 1, 1)\n",
    "\n",
    "fig.add_trace(\n",
    "    go.Scattergl(\n",
    "        x=eq_df.index, y=eq_df.drawdown, name='drawdown'\n",
    "    ),\n",
    "    row=2, col=1\n",
    ")\n",
    "\n",
    "add_liquidation_lines(fig, eq_df, eq_df.drawdown.max(), 2, 1)\n",
    "\n",
    "fig.add_trace(\n",
    "    go.Scattergl(\n",
    "        x=plt_df['date'], y=plt_df.regime_ma, name='regime_ma'\n",
    "    ),\n",
    "    row=3, col=1\n",
    ")\n",
    "\n",
    "fig.add_trace(\n",
    "    go.Scattergl(\n",
    "        x=plt_df['date'], y=plt_df.regime_close, name='regime_close'\n",
    "    ),\n",
    "    row=3, col=1\n",
    ")\n",
    "fig = fig.update_layout(width=1100, height=700)\n",
    "fig"
   ]
  },
  {
   "cell_type": "code",
   "execution_count": null,
   "metadata": {},
   "outputs": [],
   "source": [
    "\n",
    "fig = make_subplots(rows=2, cols=1, shared_xaxes=True)\n",
    "\n",
    "fig.add_trace(\n",
    "    go.Scattergl(\n",
    "        x=plt_df['date'], y=plt_df.regime_ma, name='regime_ma'\n",
    "    ),\n",
    "    row=1, col=1\n",
    ")\n",
    "\n",
    "fig.add_trace(\n",
    "    go.Scattergl(\n",
    "        x=plt_df['date'], y=plt_df.regime_close, name='regime_close'\n",
    "    ),\n",
    "    row=1, col=1\n",
    ")\n",
    "fig.add_trace(\n",
    "    go.Scattergl(\n",
    "        x=eq_df.index, y=eq_df.equity, name='equity curve'\n",
    "    ),\n",
    "    row=2, col=1\n",
    ")\n",
    "fig = fig.update_layout(width=1100, height=700)\n",
    "fig"
   ]
  },
  {
   "cell_type": "code",
   "execution_count": null,
   "metadata": {},
   "outputs": [],
   "source": [
    "import plotly.graph_objects as go\n",
    "\n",
    "eq_df = mr_strategy.equity_df.sort_index()\n",
    "\n",
    "fig = go.Figure()\n",
    "\n",
    "fig.add_trace(\n",
    "    go.Scattergl(\n",
    "        x=eq_df.index, y=eq_df.positions, name='positions'\n",
    "    ),\n",
    "    secondary_y=True\n",
    ")\n",
    "fig"
   ]
  },
  {
   "cell_type": "code",
   "execution_count": null,
   "metadata": {},
   "outputs": [],
   "source": [
    "mr_strategy.equity_df.sort_index().to_parquet('equity_curves/stop_15_20_pos.parquet')"
   ]
  },
  {
   "cell_type": "code",
   "execution_count": null,
   "metadata": {},
   "outputs": [],
   "source": [
    "#mr_strategy.equity_df.sort_index().to_parquet('equity_curves/stop.parquet')"
   ]
  },
  {
   "cell_type": "code",
   "execution_count": null,
   "metadata": {},
   "outputs": [],
   "source": [
    "eq_df2 = pd.read_parquet('equity_curves/no_stop.parquet')"
   ]
  },
  {
   "cell_type": "code",
   "execution_count": null,
   "metadata": {},
   "outputs": [],
   "source": [
    "eq_df3 = pd.read_parquet('equity_curves/stop.parquet')"
   ]
  },
  {
   "cell_type": "code",
   "execution_count": null,
   "metadata": {},
   "outputs": [],
   "source": [
    "eq_df3.loc[equity_df.equity != 50000].iloc[-1]"
   ]
  },
  {
   "cell_type": "code",
   "execution_count": null,
   "metadata": {},
   "outputs": [],
   "source": [
    "eq_df2.loc[equity_df.equity != 50000].iloc[-1]"
   ]
  },
  {
   "cell_type": "code",
   "execution_count": null,
   "metadata": {},
   "outputs": [],
   "source": [
    "eq_df.loc[equity_df.equity != 50000].iloc[-1]"
   ]
  },
  {
   "cell_type": "code",
   "execution_count": null,
   "metadata": {},
   "outputs": [],
   "source": [
    "import plotly.graph_objects as go\n",
    "\n",
    "eq_df = mr_strategy.equity_df.sort_index()\n",
    "\n",
    "fig = go.Figure()\n",
    "\n",
    "fig.add_trace(\n",
    "    go.Scattergl(\n",
    "        x=eq_df.index, y=eq_df.equity, name='equity curve no stop'\n",
    "    )\n",
    ")\n",
    "fig.add_trace(\n",
    "    go.Scattergl(\n",
    "        x=eq_df2.index, y=eq_df2.equity, name='equity curve no stop larger pos'\n",
    "    )\n",
    ")\n",
    "fig.add_trace(\n",
    "    go.Scattergl(\n",
    "        x=eq_df3.index, y=eq_df3.equity, name='equity curve'\n",
    "    )\n",
    ")\n",
    "fig"
   ]
  },
  {
   "cell_type": "code",
   "execution_count": null,
   "metadata": {},
   "outputs": [],
   "source": [
    "import plotly.graph_objects as go\n",
    "\n",
    "eq_df = mr_strategy.equity_df.sort_index()\n",
    "\n",
    "fig = go.Figure()\n",
    "\n",
    "fig.add_trace(\n",
    "    go.Scattergl(\n",
    "        x=eq_df.index, y=eq_df.equity, name='equity curve'\n",
    "    )\n",
    ")\n",
    "fig"
   ]
  },
  {
   "cell_type": "code",
   "execution_count": null,
   "metadata": {},
   "outputs": [],
   "source": [
    "def print_stats():\n",
    "    trade_count = tradesAnalyzer.getCount()\n",
    "    wins_cnt = tradesAnalyzer.getProfitableCount()\n",
    "    loss_cnt = tradesAnalyzer.getUnprofitableCount()\n",
    "    profits = tradesAnalyzer.getProfits()\n",
    "    losses = tradesAnalyzer.getLosses()\n",
    "    norm_profits = tradesAnalyzer.getPositiveReturns()\n",
    "    norm_losses = tradesAnalyzer.getNegativeReturns()\n",
    "    all_returns = tradesAnalyzer.getAllReturns()\n",
    "    sharp_ratio = sharpAnalyzer.getSharpeRatio(.02)\n",
    "    max_drawdown = drawDownAnalyzer.getMaxDrawDown()\n",
    "\n",
    "    measures = {\n",
    "        'win_rate': (wins_cnt) / (wins_cnt + loss_cnt),\n",
    "        'win count': wins_cnt,\n",
    "        'loss count': loss_cnt,\n",
    "        'mean_profit': profits.mean(),\n",
    "        'mean_loss': losses.mean(),\n",
    "        'mean_norm_profit': norm_profits.mean(),\n",
    "        'mean_norm_loss': norm_losses.mean(),\n",
    "        'mean_return': all_returns.mean(),\n",
    "        'sharp_ratio': sharp_ratio,\n",
    "        'max_drawdown': max_drawdown,\n",
    "        'cum_returns': cum_returns[-1],\n",
    "        'avg_cum_return': np.power(cum_returns[-1], 1 / 10) - 1,\n",
    "        'total_cash': mr_strategy.getBroker().getEquity()\n",
    "    }\n",
    "    return pd.Series(measures).to_frame().transpose() "
   ]
  },
  {
   "cell_type": "code",
   "execution_count": null,
   "metadata": {},
   "outputs": [],
   "source": [
    "print_stats()"
   ]
  },
  {
   "cell_type": "code",
   "execution_count": null,
   "metadata": {},
   "outputs": [],
   "source": [
    "print_stats()"
   ]
  },
  {
   "cell_type": "code",
   "execution_count": null,
   "metadata": {},
   "outputs": [],
   "source": [
    "print_stats()"
   ]
  },
  {
   "cell_type": "code",
   "execution_count": null,
   "metadata": {},
   "outputs": [],
   "source": [
    "print_stats()"
   ]
  },
  {
   "cell_type": "code",
   "execution_count": null,
   "metadata": {},
   "outputs": [],
   "source": [
    "print_stats()"
   ]
  },
  {
   "cell_type": "code",
   "execution_count": null,
   "metadata": {},
   "outputs": [],
   "source": [
    "mr_strategy.entries.loc[mr_strategy.entries.selected == 1].to_parquet('actual_entries.parquet')"
   ]
  },
  {
   "cell_type": "code",
   "execution_count": null,
   "metadata": {},
   "outputs": [],
   "source": [
    "entrancies.to_parquet('actual_entries')"
   ]
  },
  {
   "cell_type": "code",
   "execution_count": null,
   "metadata": {
    "scrolled": true
   },
   "outputs": [],
   "source": [
    "import matplotlib.pyplot as plt\n",
    "\n",
    "x  = np.arange(returns.shape[0])\n",
    "plt.plot(x, returns)\n",
    "plt.show()"
   ]
  },
  {
   "cell_type": "code",
   "execution_count": null,
   "metadata": {},
   "outputs": [],
   "source": [
    "import matplotlib.pyplot as plt\n",
    "\n",
    "x  = np.arange(returns.shape[0])\n",
    "plt.plot(x, cum_returns)\n",
    "plt.show()"
   ]
  },
  {
   "cell_type": "code",
   "execution_count": null,
   "metadata": {},
   "outputs": [],
   "source": [
    "import matplotlib.pyplot as plt\n",
    "\n",
    "x  = np.arange(returns.shape[0])\n",
    "plt.plot(x, returns)\n",
    "plt.show()"
   ]
  },
  {
   "cell_type": "code",
   "execution_count": null,
   "metadata": {},
   "outputs": [],
   "source": [
    "import plotly.graph_objs as go\n",
    "\n"
   ]
  },
  {
   "cell_type": "code",
   "execution_count": null,
   "metadata": {},
   "outputs": [],
   "source": [
    "import matplotlib.pyplot as plt\n",
    "x  = np.arange(returns.shape[0])\n",
    "plt.plot(x, cum_returns)\n",
    "plt.show()"
   ]
  },
  {
   "cell_type": "code",
   "execution_count": null,
   "metadata": {
    "scrolled": true
   },
   "outputs": [],
   "source": [
    "import matplotlib.pyplot as plt\n",
    "\n",
    "x  = np.arange(returns.shape[0])\n",
    "plt.plot(x, returns)\n",
    "plt.show()"
   ]
  },
  {
   "cell_type": "code",
   "execution_count": null,
   "metadata": {},
   "outputs": [],
   "source": [
    "x  = np.arange(returns.shape[0])\n",
    "plt.plot(x, cum_returns)\n",
    "plt.show()"
   ]
  },
  {
   "cell_type": "code",
   "execution_count": null,
   "metadata": {},
   "outputs": [],
   "source": [
    "cum_returns[-1]"
   ]
  },
  {
   "cell_type": "code",
   "execution_count": null,
   "metadata": {},
   "outputs": [],
   "source": [
    "cum_returns[-1]"
   ]
  },
  {
   "cell_type": "code",
   "execution_count": null,
   "metadata": {},
   "outputs": [],
   "source": [
    "cum_returns[-1]"
   ]
  },
  {
   "cell_type": "code",
   "execution_count": null,
   "metadata": {},
   "outputs": [],
   "source": [
    "print(\"Final portfolio value: $%.2f\" % rsi_strategy.getBroker().getEquity())"
   ]
  }
 ],
 "metadata": {
  "kernelspec": {
   "display_name": "Python 3",
   "language": "python",
   "name": "python3"
  },
  "language_info": {
   "codemirror_mode": {
    "name": "ipython",
    "version": 3
   },
   "file_extension": ".py",
   "mimetype": "text/x-python",
   "name": "python",
   "nbconvert_exporter": "python",
   "pygments_lexer": "ipython3",
   "version": "3.6.8"
  }
 },
 "nbformat": 4,
 "nbformat_minor": 2
}
