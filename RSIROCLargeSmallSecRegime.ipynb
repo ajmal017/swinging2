{
 "cells": [
  {
   "cell_type": "markdown",
   "metadata": {},
   "source": [
    "### Load Data From Parquet"
   ]
  },
  {
   "cell_type": "code",
   "execution_count": 1,
   "metadata": {},
   "outputs": [],
   "source": [
    "import ta\n",
    "\n",
    "def prep_regime_filter(regime_df, roc_col_name='regime_roc', mv_col_name='regime_ma',\n",
    "                       close_name='regime_close',\n",
    "                       ma_period=200,\n",
    "                       roc_period=45):\n",
    "    regime_df.loc[:, roc_col_name] = ta.momentum.ROCIndicator(regime_df.close_adj, n=roc_period).roc()\n",
    "    regime_df.loc[:, mv_col_name] = regime_df.set_index(\n",
    "        'date'\n",
    "    ).close_adj.rolling('%dd' % ma_period, min_periods=1).mean().values\n",
    "    regime_df.loc[:, close_name] = regime_df.close_adj\n",
    "    return regime_df"
   ]
  },
  {
   "cell_type": "code",
   "execution_count": 2,
   "metadata": {},
   "outputs": [],
   "source": [
    "import pandas as pd\n",
    "import collections\n",
    "\n",
    "Market = collections.namedtuple('Market', 'candle_data market_index sec_index')\n",
    "\n",
    "market_metadata = {\n",
    "    600: Market(candle_data='historical_pr_data_600_sec.parquet',\n",
    "                market_index='S_and_P_600_index.parquet',\n",
    "                sec_index='sector_index_1000.parquet'),\n",
    "    400: Market(candle_data='historical_pr_data_400_sec.parquet',\n",
    "                market_index='S_and_P_400_index.parquet',\n",
    "                sec_index='sector_index_400.parquet'),\n",
    "    500: Market(candle_data='historical_pr_data_sec.parquet',\n",
    "                market_index='S_and_P_index.parquet',\n",
    "                sec_index='sector_index.parquet')\n",
    "}\n",
    "\n",
    "candle_dfs = {\n",
    "    x: pd.read_parquet(market_metadata[x].candle_data)\n",
    "    for x in market_metadata\n",
    "}"
   ]
  },
  {
   "cell_type": "code",
   "execution_count": 3,
   "metadata": {},
   "outputs": [],
   "source": [
    "market_index_dfs = {\n",
    "    x: pd.read_parquet(market_metadata[x].market_index)\n",
    "    for x in market_metadata\n",
    "}"
   ]
  },
  {
   "cell_type": "code",
   "execution_count": 4,
   "metadata": {},
   "outputs": [],
   "source": [
    "sector_index_dfs = {\n",
    "    x: pd.read_parquet(market_metadata[x].sec_index)\n",
    "    for x in market_metadata\n",
    "}"
   ]
  },
  {
   "cell_type": "code",
   "execution_count": 5,
   "metadata": {},
   "outputs": [],
   "source": [
    "prep_market_regimes_dfs = {\n",
    "    x: prep_regime_filter(market_index_dfs[x])\n",
    "    for x in market_index_dfs\n",
    "}"
   ]
  },
  {
   "cell_type": "code",
   "execution_count": 6,
   "metadata": {},
   "outputs": [],
   "source": [
    "prep_sector_regime_dfs = {\n",
    "    x: sector_index_dfs[x].groupby('sector').apply(lambda x: prep_regime_filter(x, roc_col_name='sector_roc',\n",
    "                                                                     mv_col_name='sector_ma',\n",
    "                                                                     close_name='sector_close'))\n",
    "    for x in sector_index_dfs\n",
    "}"
   ]
  },
  {
   "cell_type": "code",
   "execution_count": 7,
   "metadata": {},
   "outputs": [],
   "source": [
    "candle_w_regime = {\n",
    "    x: candle_dfs[x].merge(prep_market_regimes_dfs[x][['date', 'regime_roc', 'regime_close', 'regime_ma']],\n",
    "                           on='date', how='left')\n",
    "    for x in candle_dfs\n",
    "}\n",
    "candle_w_regime = {\n",
    "    x: candle_w_regime[x].merge(prep_sector_regime_dfs[x][['date', 'sector', 'sector_roc', 'sector_close', 'sector_ma']],\n",
    "                                on=['date', 'sector'], how='left')\n",
    "    for x in candle_w_regime\n",
    "}"
   ]
  },
  {
   "cell_type": "code",
   "execution_count": 8,
   "metadata": {},
   "outputs": [],
   "source": [
    "df_norm = pd.concat((candle_w_regime[x] for x in candle_w_regime), axis=0, ignore_index=True)"
   ]
  },
  {
   "cell_type": "code",
   "execution_count": 9,
   "metadata": {},
   "outputs": [],
   "source": [
    "df_norm = df_norm.drop_duplicates(subset=['date', 'symbol']).sort_values(['symbol', 'date']).reset_index(drop=True)"
   ]
  },
  {
   "cell_type": "code",
   "execution_count": 13,
   "metadata": {},
   "outputs": [],
   "source": [
    "import ta\n",
    "import numpy as np\n",
    "\n",
    "def mean_atr(df, atr_period=14):\n",
    "    df.loc[:, 'last_close'] = df.close_adj.shift(1)\n",
    "    atr_high = np.maximum(df.high_adj, df.last_close)\n",
    "    atr_low = np.minimum(df.high_adj, df.last_close)\n",
    "    atr = atr_high - atr_low\n",
    "    return atr, atr.ewm(span=atr_period, adjust=False).mean()\n",
    "\n",
    "def get_indicators(sym_df, rsi_period=7, roc_period=60, ma_period=200):\n",
    "    rsi = ta.momentum.RSIIndicator(close=sym_df.close_adj, n=rsi_period).rsi()\n",
    "    sym_df.loc[:, 'rsi'] = rsi\n",
    "    sym_df.loc[:, 'roc'] = ta.momentum.ROCIndicator(sym_df.close_adj, n=roc_period).roc()\n",
    "    sym_df.loc[:, 'mv_avg'] = sym_df.set_index(\n",
    "        'date'\n",
    "    ).close_adj.rolling('%dd' % ma_period, min_periods=1).mean().values\n",
    "    sym_df.loc[:, 'mean_atr'] = mean_atr(sym_df)[1].values\n",
    "    return sym_df"
   ]
  },
  {
   "cell_type": "code",
   "execution_count": 14,
   "metadata": {},
   "outputs": [],
   "source": [
    "df_ind = df_norm.reset_index(drop=True).groupby('symbol').apply(get_indicators).reset_index(drop=True)"
   ]
  },
  {
   "cell_type": "code",
   "execution_count": 15,
   "metadata": {},
   "outputs": [],
   "source": [
    "bool_index = df_ind.regime_roc.notnull() & df_ind.sector_roc.isnull()\n",
    "df_ind.loc[bool_index, 'sector_roc'] = df_ind.loc[bool_index, 'regime_roc']"
   ]
  },
  {
   "cell_type": "code",
   "execution_count": 47,
   "metadata": {},
   "outputs": [],
   "source": [
    "def get_entrances(df,\n",
    "                  rsi_oversold=30,\n",
    "                  roc_change=0,\n",
    "                  regime_roc_change=0):\n",
    "    df.loc[:, 'last_rsi'] = df.rsi.shift(1)\n",
    "    df.loc[:, 'rsi_oversold_enter'] = 0\n",
    "    df.loc[:, 'rsi_roc'] = df.rsi - df.last_rsi\n",
    "    df.loc[:, 'last_rsi_roc'] = df.rsi_roc.shift(1)\n",
    "    bool_index = (df.rsi <= rsi_oversold)\n",
    "    bool_index &= (df.rsi_roc > df.last_rsi_roc)\n",
    "    bool_index &= (df.roc > roc_change)\n",
    "    bool_index &= (df.close_adj > df.mv_avg)\n",
    "    #bool_index &= (df.regime_roc > regime_roc_change)\n",
    "    bool_index &= (df.regime_close > df.regime_ma)\n",
    "    #bool_index &= (df.sector_roc > regime_roc_change)\n",
    "    bool_index &= (df.sector_close > df.sector_ma)\n",
    "    df.loc[bool_index, 'rsi_oversold_enter'] = 1\n",
    "    enter_cols = ['rsi_oversold_enter']\n",
    "    df.loc[:, 'entrances'] = df[enter_cols].sum(axis=1).clip(upper=1)\n",
    "    return df"
   ]
  },
  {
   "cell_type": "code",
   "execution_count": 48,
   "metadata": {},
   "outputs": [],
   "source": [
    "def get_exits(df, rsi_overbought=70):\n",
    "    df.loc[:, 'rsi_overbought_exit'] = 0\n",
    "    bool_index = df.rsi >= rsi_overbought\n",
    "    df.loc[bool_index, 'rsi_overbought_exit'] = 1\n",
    "    exit_cols = ['rsi_overbought_exit']\n",
    "    df.loc[:, 'exits'] = df[exit_cols].sum(axis=1).clip(upper=1)\n",
    "    return df"
   ]
  },
  {
   "cell_type": "code",
   "execution_count": 49,
   "metadata": {},
   "outputs": [],
   "source": [
    "df_enter_exit = df_ind.groupby('symbol').apply(lambda x: get_entrances(get_exits(x), roc_change=10, regime_roc_change=0))"
   ]
  },
  {
   "cell_type": "code",
   "execution_count": 50,
   "metadata": {},
   "outputs": [],
   "source": [
    "from numba import jit\n",
    "import numpy as np\n",
    "\n",
    "def backtest_seq(df, stop_thresh=0.1, run_length=30, inv_price=10000,\n",
    "                 prof_avg_offset=30 * 6, ewm_prof_offset=30 * 6):\n",
    "    df.loc[:, 'enter_exit_sig'] = df.entrances - df.exits\n",
    "    df.loc[:, 'next_open'] = df.open_adj.shift(-1)\n",
    "    profit, actual_enter_exit, shares_arr = backtest_numba(\n",
    "        df.enter_exit_sig.values, df.close_adj.values,\n",
    "        df.next_open.values, stop_thresh, run_length,\n",
    "        inv_price\n",
    "    )\n",
    "    df.loc[:, 'profit'] = profit\n",
    "    df.loc[:, 'cum_profit'] = df.profit.fillna(0).cumsum()\n",
    "    df.loc[:, 'purch_shares'] = shares_arr\n",
    "    df.loc[:, 'norm_profit'] = profit / (df.next_open * shares_arr)\n",
    "    df.loc[df.profit == 0, 'norm_profit'] = np.nan\n",
    "    df.loc[:, 'avg_profit'] = df.norm_profit.rolling(prof_avg_offset, min_periods=1).mean()\n",
    "    df.loc[:, 'avg_profit_std'] = df.norm_profit.rolling(prof_avg_offset, min_periods=1).std()\n",
    "    df.loc[:, 'eavg_profit'] = df.avg_profit.ewm(ewm_prof_offset, ignore_na=True).mean()\n",
    "    df.loc[:, 'avg_profit'] = df.avg_profit.fillna(0)\n",
    "    df.loc[:, 'actual_enter_exit'] = actual_enter_exit\n",
    "    df.loc[:, 'actual_enter'] = 0\n",
    "    df.loc[:, 'actual_exit'] = 0\n",
    "    df.loc[df.actual_enter_exit == 1, 'actual_enter'] = 1\n",
    "    df.loc[df.actual_enter_exit == -1, 'actual_exit'] = 1\n",
    "    df.loc[:, 'trade_count'] = df.actual_enter_exit.rolling(prof_avg_offset).sum()\n",
    "    return df\n",
    "    \n",
    "\n",
    "@jit(nopython=True)\n",
    "def backtest_numba(enter_exit, close_price, open_price, stop_thresh,\n",
    "                   run_length, inv_price):\n",
    "    in_trade = False\n",
    "    n = len(enter_exit)\n",
    "    actual_enter_exit = np.zeros(n)\n",
    "    shares_arr = np.zeros(n)\n",
    "    profit = np.zeros(n)\n",
    "    equity = np.zeros(n)\n",
    "    start_price = 0.0\n",
    "    top_price = start_price\n",
    "    shares = 0\n",
    "    for index in range(0, n):\n",
    "        signal = enter_exit[index]\n",
    "        if in_trade and close_price[index] > top_price:\n",
    "            top_price = close_price[index]\n",
    "        if not in_trade and signal == 1:\n",
    "            enter_price = open_price[index]\n",
    "            start_price = close_price[index]\n",
    "            top_price = start_price\n",
    "            shares = int(inv_price / start_price)\n",
    "            shares_arr[index] = shares\n",
    "            shares_cost = enter_price * shares\n",
    "            actual_enter_exit[index] = 1\n",
    "            in_trade = True\n",
    "            enter_index = index\n",
    "        elif in_trade and ((signal == -1) or ((index - enter_index) >= run_length)):\n",
    "            profit[enter_index] = (open_price[index] - enter_price) * shares\n",
    "            actual_enter_exit[index] = -1\n",
    "            in_trade = False\n",
    "        elif in_trade and ((top_price - close_price[index]) / top_price) >= stop_thresh:\n",
    "            profit[enter_index] = (open_price[index] - enter_price) * shares\n",
    "            actual_enter_exit[index] = -1\n",
    "            in_trade = False\n",
    "        elif index == (n - 1) and in_trade:\n",
    "            profit[enter_index] = (open_price[index] - enter_price) * shares\n",
    "            actual_enter_exit[index] = -1\n",
    "            in_trade = False\n",
    "    return profit, actual_enter_exit, shares_arr"
   ]
  },
  {
   "cell_type": "code",
   "execution_count": 51,
   "metadata": {},
   "outputs": [],
   "source": [
    "df_profits1 = df_enter_exit.groupby('symbol').apply(lambda x: backtest_seq(x, stop_thresh=0.1, inv_price=10000, run_length=100))"
   ]
  },
  {
   "cell_type": "code",
   "execution_count": 52,
   "metadata": {},
   "outputs": [],
   "source": [
    "import numpy as np\n",
    "\n",
    "def get_profit_metrics(df_profits):\n",
    "    wins_losses = {}\n",
    "    col_name = 'profit'\n",
    "    win_index = df_profits[col_name] > 0\n",
    "    loss_index = df_profits[col_name] < 0\n",
    "    mean_win = df_profits.loc[win_index, col_name].mean()\n",
    "    mean_loss = df_profits.loc[loss_index, col_name].mean()\n",
    "    mean_norm_profit_win = df_profits.loc[win_index, 'norm_profit'].mean()\n",
    "    mean_norm_profit_loss = df_profits.loc[loss_index, 'norm_profit'].mean()\n",
    "    mean_norm_profit = df_profits.norm_profit.mean()\n",
    "    sum_win = df_profits.loc[win_index, col_name].sum()\n",
    "    sum_loss = df_profits.loc[loss_index, col_name].sum()\n",
    "    \n",
    "    wins_losses[col_name] = [win_index.sum(), loss_index.sum(), win_index.sum() + loss_index.sum(),\n",
    "                             mean_win, mean_loss,\n",
    "                             mean_norm_profit_win, mean_norm_profit_loss,\n",
    "                             mean_norm_profit,\n",
    "                             sum_win, sum_loss\n",
    "                            ]\n",
    "\n",
    "    df_win_loss = pd.DataFrame(wins_losses, index=['wins', 'losses', 'ttl_trades', 'mean_win',\n",
    "                                                   'mean_loss',\n",
    "                                                   'mean_norm_profit_win', 'mean_norm_profit_loss',\n",
    "                                                   'mean_norm_profit',\n",
    "                                                   'ttl_win', 'ttl_loss']).transpose()\n",
    "    df_win_loss.loc[:, 'win_loss_rate'] =  df_win_loss.wins / (df_win_loss.losses + df_win_loss.wins)\n",
    "    df_win_loss.loc[:, 'win_loss_ratio'] = df_win_loss.mean_win / np.abs(df_win_loss.mean_loss)\n",
    "    \n",
    "    df_win_loss.loc[:, 'profit_factor'] = df_win_loss.ttl_win / np.abs(df_win_loss.ttl_loss)\n",
    "    df_win_loss.loc[:, 'net_profit'] = df_win_loss.ttl_win + df_win_loss.ttl_loss\n",
    "    return df_win_loss"
   ]
  },
  {
   "cell_type": "code",
   "execution_count": 53,
   "metadata": {},
   "outputs": [
    {
     "data": {
      "text/plain": [
       "0.4964214711729622"
      ]
     },
     "execution_count": 53,
     "metadata": {},
     "output_type": "execute_result"
    }
   ],
   "source": [
    "ttl_days = df_profits1['date'].unique().shape[0]\n",
    "sig_days = df_profits1.loc[df_profits1.entrances == 1, 'date'].unique().shape[0]\n",
    "sig_days / ttl_days"
   ]
  },
  {
   "cell_type": "code",
   "execution_count": 54,
   "metadata": {},
   "outputs": [],
   "source": [
    "df_win_loss = get_profit_metrics(df_profits1)"
   ]
  },
  {
   "cell_type": "code",
   "execution_count": null,
   "metadata": {},
   "outputs": [],
   "source": [
    "df_profits1.loc[:, 'month'] = df_profits1['date'].dt.month"
   ]
  },
  {
   "cell_type": "code",
   "execution_count": null,
   "metadata": {},
   "outputs": [],
   "source": [
    "df_win_loss_year = df_profits1.groupby('year').apply(get_profit_metrics)"
   ]
  },
  {
   "cell_type": "code",
   "execution_count": null,
   "metadata": {},
   "outputs": [],
   "source": [
    "df_profits1.shape"
   ]
  },
  {
   "cell_type": "code",
   "execution_count": null,
   "metadata": {},
   "outputs": [],
   "source": [
    "df_win_loss_year_month_sym = df_profits1.groupby(['symbol', 'year', 'month']).agg({'profit': 'sum'})\n",
    "df_win_loss_year_month_sym = df_win_loss_year_month_sym.loc[df_win_loss_year_month_sym.profit != 0].reset_index()"
   ]
  },
  {
   "cell_type": "code",
   "execution_count": null,
   "metadata": {},
   "outputs": [],
   "source": [
    "prof_2018 = df_win_loss_year_month_sym.loc[df_win_loss_year_month_sym.year == 2018]"
   ]
  },
  {
   "cell_type": "code",
   "execution_count": null,
   "metadata": {},
   "outputs": [],
   "source": [
    "prof_2018.groupby('month').profit.sum()"
   ]
  },
  {
   "cell_type": "code",
   "execution_count": null,
   "metadata": {},
   "outputs": [],
   "source": [
    "prof_2018.loc[prof_2018.month == 1].sort_values('profit', ascending=True)"
   ]
  },
  {
   "cell_type": "code",
   "execution_count": 24,
   "metadata": {},
   "outputs": [
    {
     "data": {
      "text/html": [
       "<div>\n",
       "<style scoped>\n",
       "    .dataframe tbody tr th:only-of-type {\n",
       "        vertical-align: middle;\n",
       "    }\n",
       "\n",
       "    .dataframe tbody tr th {\n",
       "        vertical-align: top;\n",
       "    }\n",
       "\n",
       "    .dataframe thead th {\n",
       "        text-align: right;\n",
       "    }\n",
       "</style>\n",
       "<table border=\"1\" class=\"dataframe\">\n",
       "  <thead>\n",
       "    <tr style=\"text-align: right;\">\n",
       "      <th></th>\n",
       "      <th>wins</th>\n",
       "      <th>losses</th>\n",
       "      <th>ttl_trades</th>\n",
       "      <th>mean_win</th>\n",
       "      <th>mean_loss</th>\n",
       "      <th>mean_norm_profit_win</th>\n",
       "      <th>mean_norm_profit_loss</th>\n",
       "      <th>mean_norm_profit</th>\n",
       "      <th>ttl_win</th>\n",
       "      <th>ttl_loss</th>\n",
       "      <th>win_loss_rate</th>\n",
       "      <th>win_loss_ratio</th>\n",
       "      <th>profit_factor</th>\n",
       "      <th>net_profit</th>\n",
       "    </tr>\n",
       "  </thead>\n",
       "  <tbody>\n",
       "    <tr>\n",
       "      <th>profit</th>\n",
       "      <td>4579.0</td>\n",
       "      <td>1648.0</td>\n",
       "      <td>6227.0</td>\n",
       "      <td>874.834609</td>\n",
       "      <td>-1096.778397</td>\n",
       "      <td>0.087581</td>\n",
       "      <td>-0.109695</td>\n",
       "      <td>0.035371</td>\n",
       "      <td>4.005868e+06</td>\n",
       "      <td>-1.807491e+06</td>\n",
       "      <td>0.735346</td>\n",
       "      <td>0.79764</td>\n",
       "      <td>2.216259</td>\n",
       "      <td>2.198377e+06</td>\n",
       "    </tr>\n",
       "  </tbody>\n",
       "</table>\n",
       "</div>"
      ],
      "text/plain": [
       "          wins  losses  ttl_trades    mean_win    mean_loss  \\\n",
       "profit  4579.0  1648.0      6227.0  874.834609 -1096.778397   \n",
       "\n",
       "        mean_norm_profit_win  mean_norm_profit_loss  mean_norm_profit  \\\n",
       "profit              0.087581              -0.109695          0.035371   \n",
       "\n",
       "             ttl_win      ttl_loss  win_loss_rate  win_loss_ratio  \\\n",
       "profit  4.005868e+06 -1.807491e+06       0.735346         0.79764   \n",
       "\n",
       "        profit_factor    net_profit  \n",
       "profit       2.216259  2.198377e+06  "
      ]
     },
     "execution_count": 24,
     "metadata": {},
     "output_type": "execute_result"
    }
   ],
   "source": [
    "df_win_loss"
   ]
  },
  {
   "cell_type": "code",
   "execution_count": 29,
   "metadata": {},
   "outputs": [
    {
     "data": {
      "text/html": [
       "<div>\n",
       "<style scoped>\n",
       "    .dataframe tbody tr th:only-of-type {\n",
       "        vertical-align: middle;\n",
       "    }\n",
       "\n",
       "    .dataframe tbody tr th {\n",
       "        vertical-align: top;\n",
       "    }\n",
       "\n",
       "    .dataframe thead th {\n",
       "        text-align: right;\n",
       "    }\n",
       "</style>\n",
       "<table border=\"1\" class=\"dataframe\">\n",
       "  <thead>\n",
       "    <tr style=\"text-align: right;\">\n",
       "      <th></th>\n",
       "      <th>wins</th>\n",
       "      <th>losses</th>\n",
       "      <th>ttl_trades</th>\n",
       "      <th>mean_win</th>\n",
       "      <th>mean_loss</th>\n",
       "      <th>mean_norm_profit_win</th>\n",
       "      <th>mean_norm_profit_loss</th>\n",
       "      <th>mean_norm_profit</th>\n",
       "      <th>ttl_win</th>\n",
       "      <th>ttl_loss</th>\n",
       "      <th>win_loss_rate</th>\n",
       "      <th>win_loss_ratio</th>\n",
       "      <th>profit_factor</th>\n",
       "      <th>net_profit</th>\n",
       "    </tr>\n",
       "  </thead>\n",
       "  <tbody>\n",
       "    <tr>\n",
       "      <th>profit</th>\n",
       "      <td>3807.0</td>\n",
       "      <td>2620.0</td>\n",
       "      <td>6427.0</td>\n",
       "      <td>910.88858</td>\n",
       "      <td>-846.287046</td>\n",
       "      <td>0.091162</td>\n",
       "      <td>-0.084505</td>\n",
       "      <td>0.01955</td>\n",
       "      <td>3.467753e+06</td>\n",
       "      <td>-2.217272e+06</td>\n",
       "      <td>0.592345</td>\n",
       "      <td>1.076335</td>\n",
       "      <td>1.563973</td>\n",
       "      <td>1.250481e+06</td>\n",
       "    </tr>\n",
       "  </tbody>\n",
       "</table>\n",
       "</div>"
      ],
      "text/plain": [
       "          wins  losses  ttl_trades   mean_win   mean_loss  \\\n",
       "profit  3807.0  2620.0      6427.0  910.88858 -846.287046   \n",
       "\n",
       "        mean_norm_profit_win  mean_norm_profit_loss  mean_norm_profit  \\\n",
       "profit              0.091162              -0.084505           0.01955   \n",
       "\n",
       "             ttl_win      ttl_loss  win_loss_rate  win_loss_ratio  \\\n",
       "profit  3.467753e+06 -2.217272e+06       0.592345        1.076335   \n",
       "\n",
       "        profit_factor    net_profit  \n",
       "profit       1.563973  1.250481e+06  "
      ]
     },
     "execution_count": 29,
     "metadata": {},
     "output_type": "execute_result"
    }
   ],
   "source": [
    "df_win_loss"
   ]
  },
  {
   "cell_type": "code",
   "execution_count": 37,
   "metadata": {},
   "outputs": [
    {
     "data": {
      "text/html": [
       "<div>\n",
       "<style scoped>\n",
       "    .dataframe tbody tr th:only-of-type {\n",
       "        vertical-align: middle;\n",
       "    }\n",
       "\n",
       "    .dataframe tbody tr th {\n",
       "        vertical-align: top;\n",
       "    }\n",
       "\n",
       "    .dataframe thead th {\n",
       "        text-align: right;\n",
       "    }\n",
       "</style>\n",
       "<table border=\"1\" class=\"dataframe\">\n",
       "  <thead>\n",
       "    <tr style=\"text-align: right;\">\n",
       "      <th></th>\n",
       "      <th>wins</th>\n",
       "      <th>losses</th>\n",
       "      <th>ttl_trades</th>\n",
       "      <th>mean_win</th>\n",
       "      <th>mean_loss</th>\n",
       "      <th>mean_norm_profit_win</th>\n",
       "      <th>mean_norm_profit_loss</th>\n",
       "      <th>mean_norm_profit</th>\n",
       "      <th>ttl_win</th>\n",
       "      <th>ttl_loss</th>\n",
       "      <th>win_loss_rate</th>\n",
       "      <th>win_loss_ratio</th>\n",
       "      <th>profit_factor</th>\n",
       "      <th>net_profit</th>\n",
       "    </tr>\n",
       "  </thead>\n",
       "  <tbody>\n",
       "    <tr>\n",
       "      <th>profit</th>\n",
       "      <td>3113.0</td>\n",
       "      <td>3592.0</td>\n",
       "      <td>6705.0</td>\n",
       "      <td>974.916929</td>\n",
       "      <td>-571.881417</td>\n",
       "      <td>0.097491</td>\n",
       "      <td>-0.057081</td>\n",
       "      <td>0.014684</td>\n",
       "      <td>3.034916e+06</td>\n",
       "      <td>-2.054198e+06</td>\n",
       "      <td>0.46428</td>\n",
       "      <td>1.704754</td>\n",
       "      <td>1.477422</td>\n",
       "      <td>980718.35042</td>\n",
       "    </tr>\n",
       "  </tbody>\n",
       "</table>\n",
       "</div>"
      ],
      "text/plain": [
       "          wins  losses  ttl_trades    mean_win   mean_loss  \\\n",
       "profit  3113.0  3592.0      6705.0  974.916929 -571.881417   \n",
       "\n",
       "        mean_norm_profit_win  mean_norm_profit_loss  mean_norm_profit  \\\n",
       "profit              0.097491              -0.057081          0.014684   \n",
       "\n",
       "             ttl_win      ttl_loss  win_loss_rate  win_loss_ratio  \\\n",
       "profit  3.034916e+06 -2.054198e+06        0.46428        1.704754   \n",
       "\n",
       "        profit_factor    net_profit  \n",
       "profit       1.477422  980718.35042  "
      ]
     },
     "execution_count": 37,
     "metadata": {},
     "output_type": "execute_result"
    }
   ],
   "source": [
    "df_win_loss"
   ]
  },
  {
   "cell_type": "code",
   "execution_count": 46,
   "metadata": {},
   "outputs": [
    {
     "data": {
      "text/html": [
       "<div>\n",
       "<style scoped>\n",
       "    .dataframe tbody tr th:only-of-type {\n",
       "        vertical-align: middle;\n",
       "    }\n",
       "\n",
       "    .dataframe tbody tr th {\n",
       "        vertical-align: top;\n",
       "    }\n",
       "\n",
       "    .dataframe thead th {\n",
       "        text-align: right;\n",
       "    }\n",
       "</style>\n",
       "<table border=\"1\" class=\"dataframe\">\n",
       "  <thead>\n",
       "    <tr style=\"text-align: right;\">\n",
       "      <th></th>\n",
       "      <th>wins</th>\n",
       "      <th>losses</th>\n",
       "      <th>ttl_trades</th>\n",
       "      <th>mean_win</th>\n",
       "      <th>mean_loss</th>\n",
       "      <th>mean_norm_profit_win</th>\n",
       "      <th>mean_norm_profit_loss</th>\n",
       "      <th>mean_norm_profit</th>\n",
       "      <th>ttl_win</th>\n",
       "      <th>ttl_loss</th>\n",
       "      <th>win_loss_rate</th>\n",
       "      <th>win_loss_ratio</th>\n",
       "      <th>profit_factor</th>\n",
       "      <th>net_profit</th>\n",
       "    </tr>\n",
       "  </thead>\n",
       "  <tbody>\n",
       "    <tr>\n",
       "      <th>profit</th>\n",
       "      <td>3766.0</td>\n",
       "      <td>2576.0</td>\n",
       "      <td>6342.0</td>\n",
       "      <td>895.452223</td>\n",
       "      <td>-842.195613</td>\n",
       "      <td>0.089615</td>\n",
       "      <td>-0.084124</td>\n",
       "      <td>0.019046</td>\n",
       "      <td>3.372273e+06</td>\n",
       "      <td>-2.169496e+06</td>\n",
       "      <td>0.593819</td>\n",
       "      <td>1.063235</td>\n",
       "      <td>1.554404</td>\n",
       "      <td>1.202777e+06</td>\n",
       "    </tr>\n",
       "  </tbody>\n",
       "</table>\n",
       "</div>"
      ],
      "text/plain": [
       "          wins  losses  ttl_trades    mean_win   mean_loss  \\\n",
       "profit  3766.0  2576.0      6342.0  895.452223 -842.195613   \n",
       "\n",
       "        mean_norm_profit_win  mean_norm_profit_loss  mean_norm_profit  \\\n",
       "profit              0.089615              -0.084124          0.019046   \n",
       "\n",
       "             ttl_win      ttl_loss  win_loss_rate  win_loss_ratio  \\\n",
       "profit  3.372273e+06 -2.169496e+06       0.593819        1.063235   \n",
       "\n",
       "        profit_factor    net_profit  \n",
       "profit       1.554404  1.202777e+06  "
      ]
     },
     "execution_count": 46,
     "metadata": {},
     "output_type": "execute_result"
    }
   ],
   "source": [
    "df_win_loss"
   ]
  },
  {
   "cell_type": "code",
   "execution_count": 55,
   "metadata": {},
   "outputs": [
    {
     "data": {
      "text/html": [
       "<div>\n",
       "<style scoped>\n",
       "    .dataframe tbody tr th:only-of-type {\n",
       "        vertical-align: middle;\n",
       "    }\n",
       "\n",
       "    .dataframe tbody tr th {\n",
       "        vertical-align: top;\n",
       "    }\n",
       "\n",
       "    .dataframe thead th {\n",
       "        text-align: right;\n",
       "    }\n",
       "</style>\n",
       "<table border=\"1\" class=\"dataframe\">\n",
       "  <thead>\n",
       "    <tr style=\"text-align: right;\">\n",
       "      <th></th>\n",
       "      <th>wins</th>\n",
       "      <th>losses</th>\n",
       "      <th>ttl_trades</th>\n",
       "      <th>mean_win</th>\n",
       "      <th>mean_loss</th>\n",
       "      <th>mean_norm_profit_win</th>\n",
       "      <th>mean_norm_profit_loss</th>\n",
       "      <th>mean_norm_profit</th>\n",
       "      <th>ttl_win</th>\n",
       "      <th>ttl_loss</th>\n",
       "      <th>win_loss_rate</th>\n",
       "      <th>win_loss_ratio</th>\n",
       "      <th>profit_factor</th>\n",
       "      <th>net_profit</th>\n",
       "    </tr>\n",
       "  </thead>\n",
       "  <tbody>\n",
       "    <tr>\n",
       "      <th>profit</th>\n",
       "      <td>3807.0</td>\n",
       "      <td>2620.0</td>\n",
       "      <td>6427.0</td>\n",
       "      <td>910.88858</td>\n",
       "      <td>-846.287046</td>\n",
       "      <td>0.091162</td>\n",
       "      <td>-0.084505</td>\n",
       "      <td>0.01955</td>\n",
       "      <td>3.467753e+06</td>\n",
       "      <td>-2.217272e+06</td>\n",
       "      <td>0.592345</td>\n",
       "      <td>1.076335</td>\n",
       "      <td>1.563973</td>\n",
       "      <td>1.250481e+06</td>\n",
       "    </tr>\n",
       "  </tbody>\n",
       "</table>\n",
       "</div>"
      ],
      "text/plain": [
       "          wins  losses  ttl_trades   mean_win   mean_loss  \\\n",
       "profit  3807.0  2620.0      6427.0  910.88858 -846.287046   \n",
       "\n",
       "        mean_norm_profit_win  mean_norm_profit_loss  mean_norm_profit  \\\n",
       "profit              0.091162              -0.084505           0.01955   \n",
       "\n",
       "             ttl_win      ttl_loss  win_loss_rate  win_loss_ratio  \\\n",
       "profit  3.467753e+06 -2.217272e+06       0.592345        1.076335   \n",
       "\n",
       "        profit_factor    net_profit  \n",
       "profit       1.563973  1.250481e+06  "
      ]
     },
     "execution_count": 55,
     "metadata": {},
     "output_type": "execute_result"
    }
   ],
   "source": [
    "df_win_loss"
   ]
  },
  {
   "cell_type": "code",
   "execution_count": null,
   "metadata": {},
   "outputs": [],
   "source": [
    "df_win_loss"
   ]
  },
  {
   "cell_type": "code",
   "execution_count": null,
   "metadata": {},
   "outputs": [],
   "source": [
    "df_win_loss"
   ]
  },
  {
   "cell_type": "code",
   "execution_count": null,
   "metadata": {},
   "outputs": [],
   "source": []
  },
  {
   "cell_type": "code",
   "execution_count": null,
   "metadata": {},
   "outputs": [],
   "source": [
    "df_win_loss_year"
   ]
  },
  {
   "cell_type": "code",
   "execution_count": null,
   "metadata": {},
   "outputs": [],
   "source": [
    "df_win_loss_year"
   ]
  },
  {
   "cell_type": "code",
   "execution_count": null,
   "metadata": {},
   "outputs": [],
   "source": [
    "df_profits1.shape"
   ]
  },
  {
   "cell_type": "code",
   "execution_count": null,
   "metadata": {},
   "outputs": [],
   "source": [
    "df_profits1.to_parquet('profits/RSIROC.parquet')"
   ]
  },
  {
   "cell_type": "markdown",
   "metadata": {},
   "source": [
    "### Improvements \n",
    "* Look for price increase after reversion based indicators - V1\n",
    "* Weight examples in XGBoost by Price. Look at training vs testing profit - V2\n",
    "* Add Bollinger band based indicator - V3\n",
    "* Add Regime Filter - V4\n",
    "* Use Symbol Performance based filtering - V5\n",
    "* Look at performance across Industry"
   ]
  }
 ],
 "metadata": {
  "kernelspec": {
   "display_name": "Python 3",
   "language": "python",
   "name": "python3"
  },
  "language_info": {
   "codemirror_mode": {
    "name": "ipython",
    "version": 3
   },
   "file_extension": ".py",
   "mimetype": "text/x-python",
   "name": "python",
   "nbconvert_exporter": "python",
   "pygments_lexer": "ipython3",
   "version": "3.6.8"
  }
 },
 "nbformat": 4,
 "nbformat_minor": 2
}
